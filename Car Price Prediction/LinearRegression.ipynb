{
 "cells": [
  {
   "cell_type": "code",
   "execution_count": 1,
   "id": "c086c7af",
   "metadata": {},
   "outputs": [
    {
     "name": "stdout",
     "output_type": "stream",
     "text": [
      "Files in directory:\n",
      "car details v4.csv\n",
      "/Users/mohdsafeenkhan/Desktop/Machine Learning/Project/Car Price Prediction/Data/car details v4.csv\n"
     ]
    },
    {
     "data": {
      "text/html": [
       "<div>\n",
       "<style scoped>\n",
       "    .dataframe tbody tr th:only-of-type {\n",
       "        vertical-align: middle;\n",
       "    }\n",
       "\n",
       "    .dataframe tbody tr th {\n",
       "        vertical-align: top;\n",
       "    }\n",
       "\n",
       "    .dataframe thead th {\n",
       "        text-align: right;\n",
       "    }\n",
       "</style>\n",
       "<table border=\"1\" class=\"dataframe\">\n",
       "  <thead>\n",
       "    <tr style=\"text-align: right;\">\n",
       "      <th></th>\n",
       "      <th>Make</th>\n",
       "      <th>Model</th>\n",
       "      <th>Price</th>\n",
       "      <th>Year</th>\n",
       "      <th>Kilometer</th>\n",
       "      <th>Fuel Type</th>\n",
       "      <th>Transmission</th>\n",
       "      <th>Location</th>\n",
       "      <th>Color</th>\n",
       "      <th>Owner</th>\n",
       "      <th>Seller Type</th>\n",
       "      <th>Engine</th>\n",
       "      <th>Max Power</th>\n",
       "      <th>Max Torque</th>\n",
       "      <th>Drivetrain</th>\n",
       "      <th>Length</th>\n",
       "      <th>Width</th>\n",
       "      <th>Height</th>\n",
       "      <th>Seating Capacity</th>\n",
       "      <th>Fuel Tank Capacity</th>\n",
       "    </tr>\n",
       "  </thead>\n",
       "  <tbody>\n",
       "    <tr>\n",
       "      <th>0</th>\n",
       "      <td>Honda</td>\n",
       "      <td>Amaze 1.2 VX i-VTEC</td>\n",
       "      <td>505000</td>\n",
       "      <td>2017</td>\n",
       "      <td>87150</td>\n",
       "      <td>Petrol</td>\n",
       "      <td>Manual</td>\n",
       "      <td>Pune</td>\n",
       "      <td>Grey</td>\n",
       "      <td>First</td>\n",
       "      <td>Corporate</td>\n",
       "      <td>1198 cc</td>\n",
       "      <td>87 bhp @ 6000 rpm</td>\n",
       "      <td>109 Nm @ 4500 rpm</td>\n",
       "      <td>FWD</td>\n",
       "      <td>3990.0</td>\n",
       "      <td>1680.0</td>\n",
       "      <td>1505.0</td>\n",
       "      <td>5.0</td>\n",
       "      <td>35.0</td>\n",
       "    </tr>\n",
       "    <tr>\n",
       "      <th>1</th>\n",
       "      <td>Maruti Suzuki</td>\n",
       "      <td>Swift DZire VDI</td>\n",
       "      <td>450000</td>\n",
       "      <td>2014</td>\n",
       "      <td>75000</td>\n",
       "      <td>Diesel</td>\n",
       "      <td>Manual</td>\n",
       "      <td>Ludhiana</td>\n",
       "      <td>White</td>\n",
       "      <td>Second</td>\n",
       "      <td>Individual</td>\n",
       "      <td>1248 cc</td>\n",
       "      <td>74 bhp @ 4000 rpm</td>\n",
       "      <td>190 Nm @ 2000 rpm</td>\n",
       "      <td>FWD</td>\n",
       "      <td>3995.0</td>\n",
       "      <td>1695.0</td>\n",
       "      <td>1555.0</td>\n",
       "      <td>5.0</td>\n",
       "      <td>42.0</td>\n",
       "    </tr>\n",
       "    <tr>\n",
       "      <th>2</th>\n",
       "      <td>Hyundai</td>\n",
       "      <td>i10 Magna 1.2 Kappa2</td>\n",
       "      <td>220000</td>\n",
       "      <td>2011</td>\n",
       "      <td>67000</td>\n",
       "      <td>Petrol</td>\n",
       "      <td>Manual</td>\n",
       "      <td>Lucknow</td>\n",
       "      <td>Maroon</td>\n",
       "      <td>First</td>\n",
       "      <td>Individual</td>\n",
       "      <td>1197 cc</td>\n",
       "      <td>79 bhp @ 6000 rpm</td>\n",
       "      <td>112.7619 Nm @ 4000 rpm</td>\n",
       "      <td>FWD</td>\n",
       "      <td>3585.0</td>\n",
       "      <td>1595.0</td>\n",
       "      <td>1550.0</td>\n",
       "      <td>5.0</td>\n",
       "      <td>35.0</td>\n",
       "    </tr>\n",
       "    <tr>\n",
       "      <th>3</th>\n",
       "      <td>Toyota</td>\n",
       "      <td>Glanza G</td>\n",
       "      <td>799000</td>\n",
       "      <td>2019</td>\n",
       "      <td>37500</td>\n",
       "      <td>Petrol</td>\n",
       "      <td>Manual</td>\n",
       "      <td>Mangalore</td>\n",
       "      <td>Red</td>\n",
       "      <td>First</td>\n",
       "      <td>Individual</td>\n",
       "      <td>1197 cc</td>\n",
       "      <td>82 bhp @ 6000 rpm</td>\n",
       "      <td>113 Nm @ 4200 rpm</td>\n",
       "      <td>FWD</td>\n",
       "      <td>3995.0</td>\n",
       "      <td>1745.0</td>\n",
       "      <td>1510.0</td>\n",
       "      <td>5.0</td>\n",
       "      <td>37.0</td>\n",
       "    </tr>\n",
       "    <tr>\n",
       "      <th>4</th>\n",
       "      <td>Toyota</td>\n",
       "      <td>Innova 2.4 VX 7 STR [2016-2020]</td>\n",
       "      <td>1950000</td>\n",
       "      <td>2018</td>\n",
       "      <td>69000</td>\n",
       "      <td>Diesel</td>\n",
       "      <td>Manual</td>\n",
       "      <td>Mumbai</td>\n",
       "      <td>Grey</td>\n",
       "      <td>First</td>\n",
       "      <td>Individual</td>\n",
       "      <td>2393 cc</td>\n",
       "      <td>148 bhp @ 3400 rpm</td>\n",
       "      <td>343 Nm @ 1400 rpm</td>\n",
       "      <td>RWD</td>\n",
       "      <td>4735.0</td>\n",
       "      <td>1830.0</td>\n",
       "      <td>1795.0</td>\n",
       "      <td>7.0</td>\n",
       "      <td>55.0</td>\n",
       "    </tr>\n",
       "  </tbody>\n",
       "</table>\n",
       "</div>"
      ],
      "text/plain": [
       "            Make                            Model    Price  Year  Kilometer  \\\n",
       "0          Honda              Amaze 1.2 VX i-VTEC   505000  2017      87150   \n",
       "1  Maruti Suzuki                  Swift DZire VDI   450000  2014      75000   \n",
       "2        Hyundai             i10 Magna 1.2 Kappa2   220000  2011      67000   \n",
       "3         Toyota                         Glanza G   799000  2019      37500   \n",
       "4         Toyota  Innova 2.4 VX 7 STR [2016-2020]  1950000  2018      69000   \n",
       "\n",
       "  Fuel Type Transmission   Location   Color   Owner Seller Type   Engine  \\\n",
       "0    Petrol       Manual       Pune    Grey   First   Corporate  1198 cc   \n",
       "1    Diesel       Manual   Ludhiana   White  Second  Individual  1248 cc   \n",
       "2    Petrol       Manual    Lucknow  Maroon   First  Individual  1197 cc   \n",
       "3    Petrol       Manual  Mangalore     Red   First  Individual  1197 cc   \n",
       "4    Diesel       Manual     Mumbai    Grey   First  Individual  2393 cc   \n",
       "\n",
       "            Max Power              Max Torque Drivetrain  Length   Width  \\\n",
       "0   87 bhp @ 6000 rpm       109 Nm @ 4500 rpm        FWD  3990.0  1680.0   \n",
       "1   74 bhp @ 4000 rpm       190 Nm @ 2000 rpm        FWD  3995.0  1695.0   \n",
       "2   79 bhp @ 6000 rpm  112.7619 Nm @ 4000 rpm        FWD  3585.0  1595.0   \n",
       "3   82 bhp @ 6000 rpm       113 Nm @ 4200 rpm        FWD  3995.0  1745.0   \n",
       "4  148 bhp @ 3400 rpm       343 Nm @ 1400 rpm        RWD  4735.0  1830.0   \n",
       "\n",
       "   Height  Seating Capacity  Fuel Tank Capacity  \n",
       "0  1505.0               5.0                35.0  \n",
       "1  1555.0               5.0                42.0  \n",
       "2  1550.0               5.0                35.0  \n",
       "3  1510.0               5.0                37.0  \n",
       "4  1795.0               7.0                55.0  "
      ]
     },
     "execution_count": 1,
     "metadata": {},
     "output_type": "execute_result"
    }
   ],
   "source": [
    "import os\n",
    "import pandas as pd\n",
    "print(\"Files in directory:\")\n",
    "path=('/Users/mohdsafeenkhan/Desktop/Machine Learning/Project/Car Price Prediction/Data')\n",
    "for f in os.listdir(path):\n",
    "    print(f)\n",
    "data_file = os.path.join(path,'car details v4.csv')\n",
    "print(data_file)\n",
    "df = pd.read_csv(data_file)\n",
    "df.head()"
   ]
  },
  {
   "cell_type": "markdown",
   "id": "7656c2e3",
   "metadata": {},
   "source": [
    "Now before creating our algorithm and make it to learn from this data , we need to do some feature engineering . So we first analyse the data and figure out what are the column that are insignificant , and are not essential for the learning algorithm . Once we have figured those out we can just drop those column from our pandas dataframe. "
   ]
  },
  {
   "cell_type": "code",
   "execution_count": 2,
   "id": "570ab0f1",
   "metadata": {},
   "outputs": [],
   "source": [
    "df = df.drop(['Location' , 'Color' , 'Model'] , axis = 1)\n"
   ]
  },
  {
   "cell_type": "markdown",
   "id": "d6984af6",
   "metadata": {},
   "source": [
    "Now as we are going to use the linear regression here , some column like fuel type , make etc are categorical , we need to make them one hot encoded , for our model to learn better."
   ]
  },
  {
   "cell_type": "code",
   "execution_count": 3,
   "id": "88629e7e",
   "metadata": {},
   "outputs": [
    {
     "data": {
      "text/html": [
       "<div>\n",
       "<style scoped>\n",
       "    .dataframe tbody tr th:only-of-type {\n",
       "        vertical-align: middle;\n",
       "    }\n",
       "\n",
       "    .dataframe tbody tr th {\n",
       "        vertical-align: top;\n",
       "    }\n",
       "\n",
       "    .dataframe thead th {\n",
       "        text-align: right;\n",
       "    }\n",
       "</style>\n",
       "<table border=\"1\" class=\"dataframe\">\n",
       "  <thead>\n",
       "    <tr style=\"text-align: right;\">\n",
       "      <th></th>\n",
       "      <th>Price</th>\n",
       "      <th>Year</th>\n",
       "      <th>Kilometer</th>\n",
       "      <th>Engine</th>\n",
       "      <th>Max Power</th>\n",
       "      <th>Max Torque</th>\n",
       "      <th>Length</th>\n",
       "      <th>Width</th>\n",
       "      <th>Height</th>\n",
       "      <th>Seating Capacity</th>\n",
       "      <th>...</th>\n",
       "      <th>Owner_Fourth</th>\n",
       "      <th>Owner_Second</th>\n",
       "      <th>Owner_Third</th>\n",
       "      <th>Owner_UnRegistered Car</th>\n",
       "      <th>Seller Type_Commercial Registration</th>\n",
       "      <th>Seller Type_Corporate</th>\n",
       "      <th>Seller Type_Individual</th>\n",
       "      <th>Drivetrain_AWD</th>\n",
       "      <th>Drivetrain_FWD</th>\n",
       "      <th>Drivetrain_RWD</th>\n",
       "    </tr>\n",
       "  </thead>\n",
       "  <tbody>\n",
       "    <tr>\n",
       "      <th>0</th>\n",
       "      <td>505000</td>\n",
       "      <td>2017</td>\n",
       "      <td>87150</td>\n",
       "      <td>1198 cc</td>\n",
       "      <td>87 bhp @ 6000 rpm</td>\n",
       "      <td>109 Nm @ 4500 rpm</td>\n",
       "      <td>3990.0</td>\n",
       "      <td>1680.0</td>\n",
       "      <td>1505.0</td>\n",
       "      <td>5.0</td>\n",
       "      <td>...</td>\n",
       "      <td>False</td>\n",
       "      <td>False</td>\n",
       "      <td>False</td>\n",
       "      <td>False</td>\n",
       "      <td>False</td>\n",
       "      <td>True</td>\n",
       "      <td>False</td>\n",
       "      <td>False</td>\n",
       "      <td>True</td>\n",
       "      <td>False</td>\n",
       "    </tr>\n",
       "    <tr>\n",
       "      <th>1</th>\n",
       "      <td>450000</td>\n",
       "      <td>2014</td>\n",
       "      <td>75000</td>\n",
       "      <td>1248 cc</td>\n",
       "      <td>74 bhp @ 4000 rpm</td>\n",
       "      <td>190 Nm @ 2000 rpm</td>\n",
       "      <td>3995.0</td>\n",
       "      <td>1695.0</td>\n",
       "      <td>1555.0</td>\n",
       "      <td>5.0</td>\n",
       "      <td>...</td>\n",
       "      <td>False</td>\n",
       "      <td>True</td>\n",
       "      <td>False</td>\n",
       "      <td>False</td>\n",
       "      <td>False</td>\n",
       "      <td>False</td>\n",
       "      <td>True</td>\n",
       "      <td>False</td>\n",
       "      <td>True</td>\n",
       "      <td>False</td>\n",
       "    </tr>\n",
       "    <tr>\n",
       "      <th>2</th>\n",
       "      <td>220000</td>\n",
       "      <td>2011</td>\n",
       "      <td>67000</td>\n",
       "      <td>1197 cc</td>\n",
       "      <td>79 bhp @ 6000 rpm</td>\n",
       "      <td>112.7619 Nm @ 4000 rpm</td>\n",
       "      <td>3585.0</td>\n",
       "      <td>1595.0</td>\n",
       "      <td>1550.0</td>\n",
       "      <td>5.0</td>\n",
       "      <td>...</td>\n",
       "      <td>False</td>\n",
       "      <td>False</td>\n",
       "      <td>False</td>\n",
       "      <td>False</td>\n",
       "      <td>False</td>\n",
       "      <td>False</td>\n",
       "      <td>True</td>\n",
       "      <td>False</td>\n",
       "      <td>True</td>\n",
       "      <td>False</td>\n",
       "    </tr>\n",
       "    <tr>\n",
       "      <th>3</th>\n",
       "      <td>799000</td>\n",
       "      <td>2019</td>\n",
       "      <td>37500</td>\n",
       "      <td>1197 cc</td>\n",
       "      <td>82 bhp @ 6000 rpm</td>\n",
       "      <td>113 Nm @ 4200 rpm</td>\n",
       "      <td>3995.0</td>\n",
       "      <td>1745.0</td>\n",
       "      <td>1510.0</td>\n",
       "      <td>5.0</td>\n",
       "      <td>...</td>\n",
       "      <td>False</td>\n",
       "      <td>False</td>\n",
       "      <td>False</td>\n",
       "      <td>False</td>\n",
       "      <td>False</td>\n",
       "      <td>False</td>\n",
       "      <td>True</td>\n",
       "      <td>False</td>\n",
       "      <td>True</td>\n",
       "      <td>False</td>\n",
       "    </tr>\n",
       "    <tr>\n",
       "      <th>4</th>\n",
       "      <td>1950000</td>\n",
       "      <td>2018</td>\n",
       "      <td>69000</td>\n",
       "      <td>2393 cc</td>\n",
       "      <td>148 bhp @ 3400 rpm</td>\n",
       "      <td>343 Nm @ 1400 rpm</td>\n",
       "      <td>4735.0</td>\n",
       "      <td>1830.0</td>\n",
       "      <td>1795.0</td>\n",
       "      <td>7.0</td>\n",
       "      <td>...</td>\n",
       "      <td>False</td>\n",
       "      <td>False</td>\n",
       "      <td>False</td>\n",
       "      <td>False</td>\n",
       "      <td>False</td>\n",
       "      <td>False</td>\n",
       "      <td>True</td>\n",
       "      <td>False</td>\n",
       "      <td>False</td>\n",
       "      <td>True</td>\n",
       "    </tr>\n",
       "  </tbody>\n",
       "</table>\n",
       "<p>5 rows × 67 columns</p>\n",
       "</div>"
      ],
      "text/plain": [
       "     Price  Year  Kilometer   Engine           Max Power  \\\n",
       "0   505000  2017      87150  1198 cc   87 bhp @ 6000 rpm   \n",
       "1   450000  2014      75000  1248 cc   74 bhp @ 4000 rpm   \n",
       "2   220000  2011      67000  1197 cc   79 bhp @ 6000 rpm   \n",
       "3   799000  2019      37500  1197 cc   82 bhp @ 6000 rpm   \n",
       "4  1950000  2018      69000  2393 cc  148 bhp @ 3400 rpm   \n",
       "\n",
       "               Max Torque  Length   Width  Height  Seating Capacity  ...  \\\n",
       "0       109 Nm @ 4500 rpm  3990.0  1680.0  1505.0               5.0  ...   \n",
       "1       190 Nm @ 2000 rpm  3995.0  1695.0  1555.0               5.0  ...   \n",
       "2  112.7619 Nm @ 4000 rpm  3585.0  1595.0  1550.0               5.0  ...   \n",
       "3       113 Nm @ 4200 rpm  3995.0  1745.0  1510.0               5.0  ...   \n",
       "4       343 Nm @ 1400 rpm  4735.0  1830.0  1795.0               7.0  ...   \n",
       "\n",
       "   Owner_Fourth  Owner_Second  Owner_Third  Owner_UnRegistered Car  \\\n",
       "0         False         False        False                   False   \n",
       "1         False          True        False                   False   \n",
       "2         False         False        False                   False   \n",
       "3         False         False        False                   False   \n",
       "4         False         False        False                   False   \n",
       "\n",
       "   Seller Type_Commercial Registration  Seller Type_Corporate  \\\n",
       "0                                False                   True   \n",
       "1                                False                  False   \n",
       "2                                False                  False   \n",
       "3                                False                  False   \n",
       "4                                False                  False   \n",
       "\n",
       "   Seller Type_Individual  Drivetrain_AWD  Drivetrain_FWD  Drivetrain_RWD  \n",
       "0                   False           False            True           False  \n",
       "1                    True           False            True           False  \n",
       "2                    True           False            True           False  \n",
       "3                    True           False            True           False  \n",
       "4                    True           False           False            True  \n",
       "\n",
       "[5 rows x 67 columns]"
      ]
     },
     "execution_count": 3,
     "metadata": {},
     "output_type": "execute_result"
    }
   ],
   "source": [
    "df = pd.get_dummies(df , columns=['Make' , 'Fuel Type' , 'Transmission' ,'Owner' ,'Seller Type' ,'Drivetrain'])\n",
    "df.head()"
   ]
  },
  {
   "cell_type": "markdown",
   "id": "cf807f6a",
   "metadata": {},
   "source": [
    "Now if we analyse the value of Engine , Max Power and Max Torque , we can see those values are not in single integer , so have to extract the exact  value from here."
   ]
  },
  {
   "cell_type": "code",
   "execution_count": 4,
   "id": "c90dc7a3",
   "metadata": {},
   "outputs": [],
   "source": [
    "df['Engine'] = df['Engine'].str.replace(' cc','').astype('float')\n",
    "df['Max Power'] = df['Max Power'].str.extract(r'(\\d+\\.?\\d*)').astype('float')\n",
    "df['Max Torque'] = df['Max Torque'].str.extract(r'(\\d+\\.?\\d*)').astype('float')"
   ]
  },
  {
   "cell_type": "markdown",
   "id": "be076611",
   "metadata": {},
   "source": [
    "If we see , we have column name Year , which indicated the year the car was manufactured , but a more useful feature would be the age of the car , so we can just substract the currect from this to get the age of each car and create a new column for that and drop the year column."
   ]
  },
  {
   "cell_type": "code",
   "execution_count": 5,
   "id": "f6fca5ec",
   "metadata": {},
   "outputs": [],
   "source": [
    "currect_year = 2025\n",
    "df['Age'] = currect_year - df['Year']\n",
    "df.drop('Year',axis=1,inplace=True)"
   ]
  },
  {
   "cell_type": "markdown",
   "id": "e64fd8e3",
   "metadata": {},
   "source": [
    "Now as we have done all the steps that we see can improve our algorithm , lets check if we have any null value or not , if not then we can move ahead and start with our algorithm"
   ]
  },
  {
   "cell_type": "code",
   "execution_count": 6,
   "id": "ed4afe9b",
   "metadata": {},
   "outputs": [
    {
     "name": "stdout",
     "output_type": "stream",
     "text": [
      "Engine                 80\n",
      "Max Power              80\n",
      "Max Torque             80\n",
      "Length                 64\n",
      "Width                  64\n",
      "Height                 64\n",
      "Seating Capacity       64\n",
      "Fuel Tank Capacity    113\n",
      "dtype: int64\n"
     ]
    }
   ],
   "source": [
    "df.isnull().sum()\n",
    "# print(df[df.isna().any(axis=1)])\n",
    "pd.set_option('display.max_columns', None)  # Show all columns\n",
    "#print(df.isna().sum())\n",
    "print(df.isna().sum()[df.isna().sum() > 0])\n"
   ]
  },
  {
   "cell_type": "markdown",
   "id": "ca7e4741",
   "metadata": {},
   "source": [
    "We see the above columns have null values , so we we will do is we will fill these with the median of that column."
   ]
  },
  {
   "cell_type": "code",
   "execution_count": 7,
   "id": "636607b7",
   "metadata": {},
   "outputs": [],
   "source": [
    "missing_values = ['Engine' , 'Max Power','Max Torque','Length' ,'Width' , 'Height' ,'Seating Capacity' , 'Fuel Tank Capacity']\n",
    "df[missing_values] = df[missing_values].fillna(df[missing_values].median())"
   ]
  },
  {
   "cell_type": "markdown",
   "id": "235a1188",
   "metadata": {},
   "source": [
    "Now once we have our data preprocessed , lets seprate this into 3 parts train 60% , cross validation 20% and test data 20%"
   ]
  },
  {
   "cell_type": "code",
   "execution_count": 8,
   "id": "759d7fa6",
   "metadata": {},
   "outputs": [],
   "source": [
    "from sklearn.model_selection import train_test_split\n",
    "\n",
    "train_val , test = train_test_split(df , test_size=0.2 , random_state=42)\n",
    "train , val = train_test_split(train_val , test_size=0.25 , random_state=42)"
   ]
  },
  {
   "cell_type": "markdown",
   "id": "2eb9bcfa",
   "metadata": {},
   "source": [
    "As we are working on a regression algorithm (supervised learning) , and we have to predict the price so we will make the X as an input parameter which will have all the column values expect price and y as output which will have only the price column"
   ]
  },
  {
   "cell_type": "code",
   "execution_count": 9,
   "id": "aafc5fde",
   "metadata": {},
   "outputs": [],
   "source": [
    "target_col = 'Price'\n",
    "\n",
    "x_train = train.drop(target_col,axis= 1)\n",
    "y_train = train[target_col]\n",
    "\n",
    "x_val = val.drop(target_col,axis= 1)\n",
    "y_val = val[target_col]\n",
    "\n",
    "x_test = test.drop(target_col,axis= 1)\n",
    "y_test = test[target_col]"
   ]
  },
  {
   "cell_type": "markdown",
   "id": "99000758",
   "metadata": {},
   "source": [
    "Just one last thing before we start , we need to scale our data i.e , if we see the value of our columns are very scattered this makes the algorithm to reach the minimum value slowly and might not be correct , so we are going to use the StandardScaler from scikit learn . Also if you see , I have used fit_transform in train data but just transform in cross validation and test data , the reason behind this is when we do fit and transform the mean and the standard deviation values are calculated and then using those the data is transformed , but if we used fit in cross validation and test set that is going to cause data leak and the algorithm might overfit."
   ]
  },
  {
   "cell_type": "code",
   "execution_count": 10,
   "id": "5582a01b",
   "metadata": {},
   "outputs": [],
   "source": [
    "from sklearn.preprocessing import StandardScaler\n",
    "\n",
    "scaler = StandardScaler()\n",
    "num_feature = ['Kilometer','Engine','Max Power','Max Torque','Length','Width','Age','Height','Seating Capacity','Fuel Tank Capacity',]\n",
    "x_train[num_feature] = scaler.fit_transform(x_train[num_feature])\n",
    "x_val[num_feature] = scaler.transform(x_val[num_feature])\n",
    "x_test[num_feature] = scaler.transform(x_test[num_feature])"
   ]
  },
  {
   "cell_type": "markdown",
   "id": "68f6f632",
   "metadata": {},
   "source": [
    "Now lets last learning , we will use the Linear Regression from scikit learn"
   ]
  },
  {
   "cell_type": "code",
   "execution_count": 11,
   "id": "81cc90e8",
   "metadata": {},
   "outputs": [
    {
     "name": "stderr",
     "output_type": "stream",
     "text": [
      "/Users/mohdsafeenkhan/Desktop/Machine Learning/Project/venv/lib/python3.13/site-packages/sklearn/linear_model/_base.py:279: RuntimeWarning: divide by zero encountered in matmul\n",
      "  return X @ coef_ + self.intercept_\n",
      "/Users/mohdsafeenkhan/Desktop/Machine Learning/Project/venv/lib/python3.13/site-packages/sklearn/linear_model/_base.py:279: RuntimeWarning: overflow encountered in matmul\n",
      "  return X @ coef_ + self.intercept_\n",
      "/Users/mohdsafeenkhan/Desktop/Machine Learning/Project/venv/lib/python3.13/site-packages/sklearn/linear_model/_base.py:279: RuntimeWarning: invalid value encountered in matmul\n",
      "  return X @ coef_ + self.intercept_\n"
     ]
    }
   ],
   "source": [
    "from sklearn.linear_model import LinearRegression\n",
    "\n",
    "linear_regression = LinearRegression()\n",
    "linear_regression.fit(x_train , y_train)\n",
    "y_hat = linear_regression.predict(x_train)\n"
   ]
  },
  {
   "cell_type": "markdown",
   "id": "342fdace",
   "metadata": {},
   "source": [
    "using r2 score we can see how well our model is performing."
   ]
  },
  {
   "cell_type": "code",
   "execution_count": 12,
   "id": "c450bbe1",
   "metadata": {},
   "outputs": [
    {
     "name": "stdout",
     "output_type": "stream",
     "text": [
      "R2 score for algorithm is 0.7483736076442061\n"
     ]
    }
   ],
   "source": [
    "from sklearn.metrics import r2_score\n",
    "\n",
    "r2 = r2_score(y_train , y_hat)\n",
    "print(f\"R2 score for algorithm is {r2}\")"
   ]
  },
  {
   "cell_type": "markdown",
   "id": "87dddea4",
   "metadata": {},
   "source": [
    "we can see the model is not performing well , it has just 74.837 % accuracy , so we will now use ridge linear regression , which will be penalizing our parameters."
   ]
  },
  {
   "cell_type": "code",
   "execution_count": 13,
   "id": "ea02a94e",
   "metadata": {},
   "outputs": [
    {
     "name": "stderr",
     "output_type": "stream",
     "text": [
      "/Users/mohdsafeenkhan/Desktop/Machine Learning/Project/venv/lib/python3.13/site-packages/sklearn/utils/extmath.py:203: RuntimeWarning: divide by zero encountered in matmul\n",
      "  ret = a @ b\n",
      "/Users/mohdsafeenkhan/Desktop/Machine Learning/Project/venv/lib/python3.13/site-packages/sklearn/utils/extmath.py:203: RuntimeWarning: overflow encountered in matmul\n",
      "  ret = a @ b\n",
      "/Users/mohdsafeenkhan/Desktop/Machine Learning/Project/venv/lib/python3.13/site-packages/sklearn/utils/extmath.py:203: RuntimeWarning: invalid value encountered in matmul\n",
      "  ret = a @ b\n",
      "/Users/mohdsafeenkhan/Desktop/Machine Learning/Project/venv/lib/python3.13/site-packages/sklearn/linear_model/_base.py:279: RuntimeWarning: divide by zero encountered in matmul\n",
      "  return X @ coef_ + self.intercept_\n",
      "/Users/mohdsafeenkhan/Desktop/Machine Learning/Project/venv/lib/python3.13/site-packages/sklearn/linear_model/_base.py:279: RuntimeWarning: overflow encountered in matmul\n",
      "  return X @ coef_ + self.intercept_\n",
      "/Users/mohdsafeenkhan/Desktop/Machine Learning/Project/venv/lib/python3.13/site-packages/sklearn/linear_model/_base.py:279: RuntimeWarning: invalid value encountered in matmul\n",
      "  return X @ coef_ + self.intercept_\n"
     ]
    }
   ],
   "source": [
    "from sklearn.linear_model import Ridge\n",
    "\n",
    "ridge = Ridge(alpha=0.995)\n",
    "ridge.fit(x_train , y_train)\n",
    "y_hat = ridge.predict(x_train)"
   ]
  },
  {
   "cell_type": "markdown",
   "id": "df391866",
   "metadata": {},
   "source": [
    "We can see there is still no improvement in the accuracy , so we will not try to make the feature polynomial "
   ]
  },
  {
   "cell_type": "code",
   "execution_count": 14,
   "id": "b6de6aa1",
   "metadata": {},
   "outputs": [
    {
     "name": "stdout",
     "output_type": "stream",
     "text": [
      "R2 score for algorithm is 0.742177607734087\n"
     ]
    }
   ],
   "source": [
    "r2 = r2_score(y_train , y_hat)\n",
    "print(f\"R2 score for algorithm is {r2}\")"
   ]
  },
  {
   "cell_type": "code",
   "execution_count": 15,
   "id": "dace0aa8",
   "metadata": {},
   "outputs": [],
   "source": [
    "from sklearn.preprocessing import PolynomialFeatures\n",
    "poly = PolynomialFeatures(degree=2 , include_bias=False)\n",
    "x_train = poly.fit_transform(x_train)\n",
    "x_val= poly.transform(x_val)\n",
    "x_test= poly.transform(x_test)\n"
   ]
  },
  {
   "cell_type": "markdown",
   "id": "2475b563",
   "metadata": {},
   "source": [
    "we again train the data , but here the alpha is high , as if we dont't do this the model is going to overfit , we need to fing a value where we can get a bias-varience tradeoff."
   ]
  },
  {
   "cell_type": "code",
   "execution_count": 16,
   "id": "b751d708",
   "metadata": {},
   "outputs": [
    {
     "name": "stderr",
     "output_type": "stream",
     "text": [
      "/Users/mohdsafeenkhan/Desktop/Machine Learning/Project/venv/lib/python3.13/site-packages/sklearn/utils/extmath.py:203: RuntimeWarning: divide by zero encountered in matmul\n",
      "  ret = a @ b\n",
      "/Users/mohdsafeenkhan/Desktop/Machine Learning/Project/venv/lib/python3.13/site-packages/sklearn/utils/extmath.py:203: RuntimeWarning: overflow encountered in matmul\n",
      "  ret = a @ b\n",
      "/Users/mohdsafeenkhan/Desktop/Machine Learning/Project/venv/lib/python3.13/site-packages/sklearn/utils/extmath.py:203: RuntimeWarning: invalid value encountered in matmul\n",
      "  ret = a @ b\n",
      "/Users/mohdsafeenkhan/Desktop/Machine Learning/Project/venv/lib/python3.13/site-packages/sklearn/linear_model/_base.py:311: RuntimeWarning: divide by zero encountered in matmul\n",
      "  intercept_ = y_offset - X_offset @ coef_\n",
      "/Users/mohdsafeenkhan/Desktop/Machine Learning/Project/venv/lib/python3.13/site-packages/sklearn/linear_model/_base.py:311: RuntimeWarning: overflow encountered in matmul\n",
      "  intercept_ = y_offset - X_offset @ coef_\n",
      "/Users/mohdsafeenkhan/Desktop/Machine Learning/Project/venv/lib/python3.13/site-packages/sklearn/linear_model/_base.py:311: RuntimeWarning: invalid value encountered in matmul\n",
      "  intercept_ = y_offset - X_offset @ coef_\n",
      "/Users/mohdsafeenkhan/Desktop/Machine Learning/Project/venv/lib/python3.13/site-packages/sklearn/linear_model/_base.py:279: RuntimeWarning: divide by zero encountered in matmul\n",
      "  return X @ coef_ + self.intercept_\n",
      "/Users/mohdsafeenkhan/Desktop/Machine Learning/Project/venv/lib/python3.13/site-packages/sklearn/linear_model/_base.py:279: RuntimeWarning: overflow encountered in matmul\n",
      "  return X @ coef_ + self.intercept_\n",
      "/Users/mohdsafeenkhan/Desktop/Machine Learning/Project/venv/lib/python3.13/site-packages/sklearn/linear_model/_base.py:279: RuntimeWarning: invalid value encountered in matmul\n",
      "  return X @ coef_ + self.intercept_\n"
     ]
    }
   ],
   "source": [
    "ridge = Ridge(alpha=550)\n",
    "ridge.fit(x_train , y_train)\n",
    "y_hat = ridge.predict(x_train)"
   ]
  },
  {
   "cell_type": "markdown",
   "id": "927497a3",
   "metadata": {},
   "source": [
    "We can see the models , performance has improved and is now within acceptable limits"
   ]
  },
  {
   "cell_type": "code",
   "execution_count": 17,
   "id": "5f0a2768",
   "metadata": {},
   "outputs": [
    {
     "name": "stdout",
     "output_type": "stream",
     "text": [
      "R2 score for algorithm is 0.8772187611967448\n"
     ]
    }
   ],
   "source": [
    "r2 = r2_score(y_train , y_hat)\n",
    "print(f\"R2 score for algorithm is {r2}\")"
   ]
  },
  {
   "cell_type": "markdown",
   "id": "a8e687c8",
   "metadata": {},
   "source": [
    "lets test this on our cross validation and test data as well"
   ]
  },
  {
   "cell_type": "code",
   "execution_count": 18,
   "id": "064bf377",
   "metadata": {},
   "outputs": [
    {
     "name": "stdout",
     "output_type": "stream",
     "text": [
      "R2 score for algorithm is 0.8698873339610372\n"
     ]
    },
    {
     "name": "stderr",
     "output_type": "stream",
     "text": [
      "/Users/mohdsafeenkhan/Desktop/Machine Learning/Project/venv/lib/python3.13/site-packages/sklearn/linear_model/_base.py:279: RuntimeWarning: divide by zero encountered in matmul\n",
      "  return X @ coef_ + self.intercept_\n",
      "/Users/mohdsafeenkhan/Desktop/Machine Learning/Project/venv/lib/python3.13/site-packages/sklearn/linear_model/_base.py:279: RuntimeWarning: overflow encountered in matmul\n",
      "  return X @ coef_ + self.intercept_\n",
      "/Users/mohdsafeenkhan/Desktop/Machine Learning/Project/venv/lib/python3.13/site-packages/sklearn/linear_model/_base.py:279: RuntimeWarning: invalid value encountered in matmul\n",
      "  return X @ coef_ + self.intercept_\n"
     ]
    }
   ],
   "source": [
    "y_val_hat = ridge.predict(x_val)\n",
    "r2 = r2_score(y_val , y_val_hat)\n",
    "print(f\"R2 score for algorithm is {r2}\")"
   ]
  },
  {
   "cell_type": "code",
   "execution_count": 19,
   "id": "5c2d78c7",
   "metadata": {},
   "outputs": [
    {
     "name": "stdout",
     "output_type": "stream",
     "text": [
      "R2 score for algorithm is 0.8638302556477162\n"
     ]
    },
    {
     "name": "stderr",
     "output_type": "stream",
     "text": [
      "/Users/mohdsafeenkhan/Desktop/Machine Learning/Project/venv/lib/python3.13/site-packages/sklearn/linear_model/_base.py:279: RuntimeWarning: divide by zero encountered in matmul\n",
      "  return X @ coef_ + self.intercept_\n",
      "/Users/mohdsafeenkhan/Desktop/Machine Learning/Project/venv/lib/python3.13/site-packages/sklearn/linear_model/_base.py:279: RuntimeWarning: overflow encountered in matmul\n",
      "  return X @ coef_ + self.intercept_\n",
      "/Users/mohdsafeenkhan/Desktop/Machine Learning/Project/venv/lib/python3.13/site-packages/sklearn/linear_model/_base.py:279: RuntimeWarning: invalid value encountered in matmul\n",
      "  return X @ coef_ + self.intercept_\n"
     ]
    }
   ],
   "source": [
    "y_test_hat = ridge.predict(x_test)\n",
    "r2 = r2_score(y_test , y_test_hat)\n",
    "print(f\"R2 score for algorithm is {r2}\")"
   ]
  },
  {
   "cell_type": "markdown",
   "id": "0310c337",
   "metadata": {},
   "source": [
    "As we see the model is at same accuracy for all our three data set. If we further want to improve our model , we can use random forest or XGBoast algorithm , as we can see the data is not linear , and for these type of data non linear algorithm works best"
   ]
  }
 ],
 "metadata": {
  "kernelspec": {
   "display_name": "venv",
   "language": "python",
   "name": "python3"
  },
  "language_info": {
   "codemirror_mode": {
    "name": "ipython",
    "version": 3
   },
   "file_extension": ".py",
   "mimetype": "text/x-python",
   "name": "python",
   "nbconvert_exporter": "python",
   "pygments_lexer": "ipython3",
   "version": "3.13.3"
  }
 },
 "nbformat": 4,
 "nbformat_minor": 5
}
