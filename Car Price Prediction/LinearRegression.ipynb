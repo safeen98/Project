{
 "cells": [
  {
   "cell_type": "code",
   "execution_count": 1,
   "id": "fef03c66",
   "metadata": {},
   "outputs": [
    {
     "name": "stderr",
     "output_type": "stream",
     "text": [
      "/Users/mohdsafeenkhan/Desktop/Machine Learning/Project/venv/lib/python3.13/site-packages/tqdm/auto.py:21: TqdmWarning: IProgress not found. Please update jupyter and ipywidgets. See https://ipywidgets.readthedocs.io/en/stable/user_install.html\n",
      "  from .autonotebook import tqdm as notebook_tqdm\n"
     ]
    },
    {
     "name": "stdout",
     "output_type": "stream",
     "text": [
      "Path to dataset files: /Users/mohdsafeenkhan/.cache/kagglehub/datasets/nehalbirla/vehicle-dataset-from-cardekho/versions/4\n"
     ]
    }
   ],
   "source": [
    "import kagglehub\n",
    "\n",
    "# Download latest version\n",
    "path = kagglehub.dataset_download(\"nehalbirla/vehicle-dataset-from-cardekho\")\n",
    "\n",
    "print(\"Path to dataset files:\", path)"
   ]
  },
  {
   "cell_type": "code",
   "execution_count": 2,
   "id": "c086c7af",
   "metadata": {},
   "outputs": [
    {
     "name": "stdout",
     "output_type": "stream",
     "text": [
      "Files in directory:\n",
      "car data.csv\n",
      "CAR DETAILS FROM CAR DEKHO.csv\n",
      "car details v4.csv\n",
      "Car details v3.csv\n",
      "/Users/mohdsafeenkhan/.cache/kagglehub/datasets/nehalbirla/vehicle-dataset-from-cardekho/versions/4/car details v4.csv\n",
      "               Make                                  Model    Price  Year  \\\n",
      "0             Honda                    Amaze 1.2 VX i-VTEC   505000  2017   \n",
      "1     Maruti Suzuki                        Swift DZire VDI   450000  2014   \n",
      "2           Hyundai                   i10 Magna 1.2 Kappa2   220000  2011   \n",
      "3            Toyota                               Glanza G   799000  2019   \n",
      "4            Toyota        Innova 2.4 VX 7 STR [2016-2020]  1950000  2018   \n",
      "...             ...                                    ...      ...   ...   \n",
      "2054       Mahindra                  XUV500 W8 [2015-2017]   850000  2016   \n",
      "2055        Hyundai                           Eon D-Lite +   275000  2014   \n",
      "2056           Ford            Figo Duratec Petrol ZXI 1.2   240000  2013   \n",
      "2057            BMW  5-Series 520d Luxury Line [2017-2019]  4290000  2018   \n",
      "2058       Mahindra      Bolero Power Plus ZLX [2016-2019]   670000  2017   \n",
      "\n",
      "      Kilometer Fuel Type Transmission    Location   Color   Owner  \\\n",
      "0         87150    Petrol       Manual        Pune    Grey   First   \n",
      "1         75000    Diesel       Manual    Ludhiana   White  Second   \n",
      "2         67000    Petrol       Manual     Lucknow  Maroon   First   \n",
      "3         37500    Petrol       Manual   Mangalore     Red   First   \n",
      "4         69000    Diesel       Manual      Mumbai    Grey   First   \n",
      "...         ...       ...          ...         ...     ...     ...   \n",
      "2054      90300    Diesel       Manual       Surat   White   First   \n",
      "2055      83000    Petrol       Manual   Ahmedabad   White  Second   \n",
      "2056      73000    Petrol       Manual       Thane  Silver   First   \n",
      "2057      60474    Diesel    Automatic  Coimbatore   White   First   \n",
      "2058      72000    Diesel       Manual    Guwahati   White   First   \n",
      "\n",
      "     Seller Type   Engine           Max Power              Max Torque  \\\n",
      "0      Corporate  1198 cc   87 bhp @ 6000 rpm       109 Nm @ 4500 rpm   \n",
      "1     Individual  1248 cc   74 bhp @ 4000 rpm       190 Nm @ 2000 rpm   \n",
      "2     Individual  1197 cc   79 bhp @ 6000 rpm  112.7619 Nm @ 4000 rpm   \n",
      "3     Individual  1197 cc   82 bhp @ 6000 rpm       113 Nm @ 4200 rpm   \n",
      "4     Individual  2393 cc  148 bhp @ 3400 rpm       343 Nm @ 1400 rpm   \n",
      "...          ...      ...                 ...                     ...   \n",
      "2054  Individual  2179 cc  138 bhp @ 3750 rpm       330 Nm @ 1600 rpm   \n",
      "2055  Individual   814 cc   55 bhp @ 5500 rpm        75 Nm @ 4000 rpm   \n",
      "2056  Individual  1196 cc   70 bhp @ 6250 rpm       102 Nm @ 4000 rpm   \n",
      "2057  Individual  1995 cc  188 bhp @ 4000 rpm       400 Nm @ 1750 rpm   \n",
      "2058  Individual  1493 cc   70 bhp @ 3600 rpm       195 Nm @ 1400 rpm   \n",
      "\n",
      "     Drivetrain  Length   Width  Height  Seating Capacity  Fuel Tank Capacity  \n",
      "0           FWD  3990.0  1680.0  1505.0               5.0                35.0  \n",
      "1           FWD  3995.0  1695.0  1555.0               5.0                42.0  \n",
      "2           FWD  3585.0  1595.0  1550.0               5.0                35.0  \n",
      "3           FWD  3995.0  1745.0  1510.0               5.0                37.0  \n",
      "4           RWD  4735.0  1830.0  1795.0               7.0                55.0  \n",
      "...         ...     ...     ...     ...               ...                 ...  \n",
      "2054        FWD  4585.0  1890.0  1785.0               7.0                70.0  \n",
      "2055        FWD  3495.0  1550.0  1500.0               5.0                32.0  \n",
      "2056        FWD  3795.0  1680.0  1427.0               5.0                45.0  \n",
      "2057        RWD  4936.0  1868.0  1479.0               5.0                65.0  \n",
      "2058        RWD  3995.0  1745.0  1880.0               7.0                 NaN  \n",
      "\n",
      "[2059 rows x 20 columns]\n"
     ]
    }
   ],
   "source": [
    "import os\n",
    "import pandas as pd\n",
    "print(\"Files in directory:\")\n",
    "for f in os.listdir(path):\n",
    "    print(f)\n",
    "data_file = os.path.join(path,'car details v4.csv')\n",
    "print(data_file)\n",
    "df = pd.read_csv(data_file)\n",
    "print(df)"
   ]
  },
  {
   "cell_type": "code",
   "execution_count": 3,
   "id": "d5650738",
   "metadata": {},
   "outputs": [
    {
     "name": "stdout",
     "output_type": "stream",
     "text": [
      "0        87 bhp @ 6000 rpm\n",
      "1        74 bhp @ 4000 rpm\n",
      "2        79 bhp @ 6000 rpm\n",
      "3        82 bhp @ 6000 rpm\n",
      "4       148 bhp @ 3400 rpm\n",
      "               ...        \n",
      "2054    138 bhp @ 3750 rpm\n",
      "2055     55 bhp @ 5500 rpm\n",
      "2056     70 bhp @ 6250 rpm\n",
      "2057    188 bhp @ 4000 rpm\n",
      "2058     70 bhp @ 3600 rpm\n",
      "Name: Max Power, Length: 2059, dtype: object\n"
     ]
    }
   ],
   "source": [
    "print(df['Max Power'])"
   ]
  },
  {
   "cell_type": "code",
   "execution_count": 4,
   "id": "570ab0f1",
   "metadata": {},
   "outputs": [
    {
     "name": "stdout",
     "output_type": "stream",
     "text": [
      "Make                    0\n",
      "Model                   0\n",
      "Price                   0\n",
      "Year                    0\n",
      "Kilometer               0\n",
      "Fuel Type               0\n",
      "Transmission            0\n",
      "Location                0\n",
      "Color                   0\n",
      "Owner                   0\n",
      "Seller Type             0\n",
      "Engine                 80\n",
      "Max Power              80\n",
      "Max Torque             80\n",
      "Drivetrain            136\n",
      "Length                 64\n",
      "Width                  64\n",
      "Height                 64\n",
      "Seating Capacity       64\n",
      "Fuel Tank Capacity    113\n",
      "dtype: int64\n"
     ]
    }
   ],
   "source": [
    "print(df.isnull().sum())\n",
    "df.drop(['Fuel Tank Capacity','Drivetrain'] , axis = 1 , inplace=True)\n"
   ]
  },
  {
   "cell_type": "code",
   "execution_count": 5,
   "id": "88629e7e",
   "metadata": {},
   "outputs": [
    {
     "name": "stdout",
     "output_type": "stream",
     "text": [
      "     Price  Year  Kilometer  Length   Width  Height  Seating Capacity  \\\n",
      "0   505000  2017      87150  3990.0  1680.0  1505.0               5.0   \n",
      "1   450000  2014      75000  3995.0  1695.0  1555.0               5.0   \n",
      "2   220000  2011      67000  3585.0  1595.0  1550.0               5.0   \n",
      "3   799000  2019      37500  3995.0  1745.0  1510.0               5.0   \n",
      "4  1950000  2018      69000  4735.0  1830.0  1795.0               7.0   \n",
      "\n",
      "   Make_BMW  Make_Chevrolet  Make_Datsun  ...  Max Torque_94 Nm @ 3500 rpm  \\\n",
      "0     False           False        False  ...                        False   \n",
      "1     False           False        False  ...                        False   \n",
      "2     False           False        False  ...                        False   \n",
      "3     False           False        False  ...                        False   \n",
      "4     False           False        False  ...                        False   \n",
      "\n",
      "   Max Torque_95 Nm @ 3000 rpm  Max Torque_95 Nm @ 4000 rpm  \\\n",
      "0                        False                        False   \n",
      "1                        False                        False   \n",
      "2                        False                        False   \n",
      "3                        False                        False   \n",
      "4                        False                        False   \n",
      "\n",
      "   Max Torque_96 Nm @ 3000 rpm  Max Torque_96 Nm @ 3500 rpm  \\\n",
      "0                        False                        False   \n",
      "1                        False                        False   \n",
      "2                        False                        False   \n",
      "3                        False                        False   \n",
      "4                        False                        False   \n",
      "\n",
      "   Max Torque_98 Nm @ 3000 rpm  Max Torque_99 Nm @ 4500 rpm  \\\n",
      "0                        False                        False   \n",
      "1                        False                        False   \n",
      "2                        False                        False   \n",
      "3                        False                        False   \n",
      "4                        False                        False   \n",
      "\n",
      "   Max Torque_99.08 Nm @ 4500 rpm  Max Torque_99.081 Nm @ 4500 rpm  \\\n",
      "0                           False                            False   \n",
      "1                           False                            False   \n",
      "2                           False                            False   \n",
      "3                           False                            False   \n",
      "4                           False                            False   \n",
      "\n",
      "   Max Torque_99@2800  \n",
      "0               False  \n",
      "1               False  \n",
      "2               False  \n",
      "3               False  \n",
      "4               False  \n",
      "\n",
      "[5 rows x 1926 columns]\n"
     ]
    }
   ],
   "source": [
    "# df['Engine'] = df['Engine']\n",
    "# df['Max Power '] = df['Max Power '].str.replace('rpm','').astype(float)\n",
    "# print(df)\n",
    "df_encoding = pd.get_dummies(df,drop_first=True)\n",
    "print(df_encoding.head())"
   ]
  },
  {
   "cell_type": "code",
   "execution_count": 6,
   "id": "c90dc7a3",
   "metadata": {},
   "outputs": [
    {
     "name": "stdout",
     "output_type": "stream",
     "text": [
      "      Year  Kilometer  Length   Width  Height  Seating Capacity  Make_BMW  \\\n",
      "0     2017      87150  3990.0  1680.0  1505.0               5.0     False   \n",
      "1     2014      75000  3995.0  1695.0  1555.0               5.0     False   \n",
      "2     2011      67000  3585.0  1595.0  1550.0               5.0     False   \n",
      "3     2019      37500  3995.0  1745.0  1510.0               5.0     False   \n",
      "4     2018      69000  4735.0  1830.0  1795.0               7.0     False   \n",
      "...    ...        ...     ...     ...     ...               ...       ...   \n",
      "2054  2016      90300  4585.0  1890.0  1785.0               7.0     False   \n",
      "2055  2014      83000  3495.0  1550.0  1500.0               5.0     False   \n",
      "2056  2013      73000  3795.0  1680.0  1427.0               5.0     False   \n",
      "2057  2018      60474  4936.0  1868.0  1479.0               5.0      True   \n",
      "2058  2017      72000  3995.0  1745.0  1880.0               7.0     False   \n",
      "\n",
      "      Make_Chevrolet  Make_Datsun  Make_Ferrari  ...  \\\n",
      "0              False        False         False  ...   \n",
      "1              False        False         False  ...   \n",
      "2              False        False         False  ...   \n",
      "3              False        False         False  ...   \n",
      "4              False        False         False  ...   \n",
      "...              ...          ...           ...  ...   \n",
      "2054           False        False         False  ...   \n",
      "2055           False        False         False  ...   \n",
      "2056           False        False         False  ...   \n",
      "2057           False        False         False  ...   \n",
      "2058           False        False         False  ...   \n",
      "\n",
      "      Max Torque_94 Nm @ 3500 rpm  Max Torque_95 Nm @ 3000 rpm  \\\n",
      "0                           False                        False   \n",
      "1                           False                        False   \n",
      "2                           False                        False   \n",
      "3                           False                        False   \n",
      "4                           False                        False   \n",
      "...                           ...                          ...   \n",
      "2054                        False                        False   \n",
      "2055                        False                        False   \n",
      "2056                        False                        False   \n",
      "2057                        False                        False   \n",
      "2058                        False                        False   \n",
      "\n",
      "      Max Torque_95 Nm @ 4000 rpm  Max Torque_96 Nm @ 3000 rpm  \\\n",
      "0                           False                        False   \n",
      "1                           False                        False   \n",
      "2                           False                        False   \n",
      "3                           False                        False   \n",
      "4                           False                        False   \n",
      "...                           ...                          ...   \n",
      "2054                        False                        False   \n",
      "2055                        False                        False   \n",
      "2056                        False                        False   \n",
      "2057                        False                        False   \n",
      "2058                        False                        False   \n",
      "\n",
      "      Max Torque_96 Nm @ 3500 rpm  Max Torque_98 Nm @ 3000 rpm  \\\n",
      "0                           False                        False   \n",
      "1                           False                        False   \n",
      "2                           False                        False   \n",
      "3                           False                        False   \n",
      "4                           False                        False   \n",
      "...                           ...                          ...   \n",
      "2054                        False                        False   \n",
      "2055                        False                        False   \n",
      "2056                        False                        False   \n",
      "2057                        False                        False   \n",
      "2058                        False                        False   \n",
      "\n",
      "      Max Torque_99 Nm @ 4500 rpm  Max Torque_99.08 Nm @ 4500 rpm  \\\n",
      "0                           False                           False   \n",
      "1                           False                           False   \n",
      "2                           False                           False   \n",
      "3                           False                           False   \n",
      "4                           False                           False   \n",
      "...                           ...                             ...   \n",
      "2054                        False                           False   \n",
      "2055                        False                           False   \n",
      "2056                        False                           False   \n",
      "2057                        False                           False   \n",
      "2058                        False                           False   \n",
      "\n",
      "      Max Torque_99.081 Nm @ 4500 rpm  Max Torque_99@2800  \n",
      "0                               False               False  \n",
      "1                               False               False  \n",
      "2                               False               False  \n",
      "3                               False               False  \n",
      "4                               False               False  \n",
      "...                               ...                 ...  \n",
      "2054                            False               False  \n",
      "2055                            False               False  \n",
      "2056                            False               False  \n",
      "2057                            False               False  \n",
      "2058                            False               False  \n",
      "\n",
      "[2059 rows x 1925 columns]\n",
      "0        505000\n",
      "1        450000\n",
      "2        220000\n",
      "3        799000\n",
      "4       1950000\n",
      "         ...   \n",
      "2054     850000\n",
      "2055     275000\n",
      "2056     240000\n",
      "2057    4290000\n",
      "2058     670000\n",
      "Name: Price, Length: 2059, dtype: int64\n"
     ]
    }
   ],
   "source": [
    "X = df_encoding.drop('Price' , axis=1) # this adds all the column except price , also this axis is suggestes which to remove like the row or the column , i.e 0 is for row and for column it's 1\n",
    "Y = df_encoding['Price'] # adds the price column to Y\n",
    "print(X)\n",
    "print(Y)"
   ]
  },
  {
   "cell_type": "code",
   "execution_count": 7,
   "id": "e2e2eb66",
   "metadata": {},
   "outputs": [],
   "source": [
    "from sklearn.model_selection import train_test_split\n",
    "\n",
    "x_train,x_test,y_train,y_test = train_test_split(X,Y,test_size=0.2,random_state=42)"
   ]
  },
  {
   "cell_type": "code",
   "execution_count": 8,
   "id": "201116d4",
   "metadata": {},
   "outputs": [
    {
     "ename": "ValueError",
     "evalue": "Input X contains NaN.\nLinearRegression does not accept missing values encoded as NaN natively. For supervised learning, you might want to consider sklearn.ensemble.HistGradientBoostingClassifier and Regressor which accept missing values encoded as NaNs natively. Alternatively, it is possible to preprocess the data, for instance by using an imputer transformer in a pipeline or drop samples with missing values. See https://scikit-learn.org/stable/modules/impute.html You can find a list of all estimators that handle NaN values at the following page: https://scikit-learn.org/stable/modules/impute.html#estimators-that-handle-nan-values",
     "output_type": "error",
     "traceback": [
      "\u001b[31m---------------------------------------------------------------------------\u001b[39m",
      "\u001b[31mValueError\u001b[39m                                Traceback (most recent call last)",
      "\u001b[36mCell\u001b[39m\u001b[36m \u001b[39m\u001b[32mIn[8]\u001b[39m\u001b[32m, line 4\u001b[39m\n\u001b[32m      2\u001b[39m \u001b[38;5;28;01mfrom\u001b[39;00m\u001b[38;5;250m \u001b[39m\u001b[34;01msklearn\u001b[39;00m\u001b[34;01m.\u001b[39;00m\u001b[34;01mmetrics\u001b[39;00m\u001b[38;5;250m \u001b[39m\u001b[38;5;28;01mimport\u001b[39;00m r2_score , mean_squared_error\n\u001b[32m      3\u001b[39m model = LinearRegression()\n\u001b[32m----> \u001b[39m\u001b[32m4\u001b[39m \u001b[43mmodel\u001b[49m\u001b[43m.\u001b[49m\u001b[43mfit\u001b[49m\u001b[43m(\u001b[49m\u001b[43mx_train\u001b[49m\u001b[43m,\u001b[49m\u001b[43my_train\u001b[49m\u001b[43m)\u001b[49m\n\u001b[32m      5\u001b[39m y_pred = model.predict(x_test)\n\u001b[32m      7\u001b[39m \u001b[38;5;28mprint\u001b[39m(\u001b[33m\"\u001b[39m\u001b[33mR² Score:\u001b[39m\u001b[33m\"\u001b[39m, r2_score(y_test, y_pred))\n",
      "\u001b[36mFile \u001b[39m\u001b[32m~/Desktop/Machine Learning/Project/venv/lib/python3.13/site-packages/sklearn/base.py:1389\u001b[39m, in \u001b[36m_fit_context.<locals>.decorator.<locals>.wrapper\u001b[39m\u001b[34m(estimator, *args, **kwargs)\u001b[39m\n\u001b[32m   1382\u001b[39m     estimator._validate_params()\n\u001b[32m   1384\u001b[39m \u001b[38;5;28;01mwith\u001b[39;00m config_context(\n\u001b[32m   1385\u001b[39m     skip_parameter_validation=(\n\u001b[32m   1386\u001b[39m         prefer_skip_nested_validation \u001b[38;5;129;01mor\u001b[39;00m global_skip_validation\n\u001b[32m   1387\u001b[39m     )\n\u001b[32m   1388\u001b[39m ):\n\u001b[32m-> \u001b[39m\u001b[32m1389\u001b[39m     \u001b[38;5;28;01mreturn\u001b[39;00m \u001b[43mfit_method\u001b[49m\u001b[43m(\u001b[49m\u001b[43mestimator\u001b[49m\u001b[43m,\u001b[49m\u001b[43m \u001b[49m\u001b[43m*\u001b[49m\u001b[43margs\u001b[49m\u001b[43m,\u001b[49m\u001b[43m \u001b[49m\u001b[43m*\u001b[49m\u001b[43m*\u001b[49m\u001b[43mkwargs\u001b[49m\u001b[43m)\u001b[49m\n",
      "\u001b[36mFile \u001b[39m\u001b[32m~/Desktop/Machine Learning/Project/venv/lib/python3.13/site-packages/sklearn/linear_model/_base.py:601\u001b[39m, in \u001b[36mLinearRegression.fit\u001b[39m\u001b[34m(self, X, y, sample_weight)\u001b[39m\n\u001b[32m    597\u001b[39m n_jobs_ = \u001b[38;5;28mself\u001b[39m.n_jobs\n\u001b[32m    599\u001b[39m accept_sparse = \u001b[38;5;28;01mFalse\u001b[39;00m \u001b[38;5;28;01mif\u001b[39;00m \u001b[38;5;28mself\u001b[39m.positive \u001b[38;5;28;01melse\u001b[39;00m [\u001b[33m\"\u001b[39m\u001b[33mcsr\u001b[39m\u001b[33m\"\u001b[39m, \u001b[33m\"\u001b[39m\u001b[33mcsc\u001b[39m\u001b[33m\"\u001b[39m, \u001b[33m\"\u001b[39m\u001b[33mcoo\u001b[39m\u001b[33m\"\u001b[39m]\n\u001b[32m--> \u001b[39m\u001b[32m601\u001b[39m X, y = \u001b[43mvalidate_data\u001b[49m\u001b[43m(\u001b[49m\n\u001b[32m    602\u001b[39m \u001b[43m    \u001b[49m\u001b[38;5;28;43mself\u001b[39;49m\u001b[43m,\u001b[49m\n\u001b[32m    603\u001b[39m \u001b[43m    \u001b[49m\u001b[43mX\u001b[49m\u001b[43m,\u001b[49m\n\u001b[32m    604\u001b[39m \u001b[43m    \u001b[49m\u001b[43my\u001b[49m\u001b[43m,\u001b[49m\n\u001b[32m    605\u001b[39m \u001b[43m    \u001b[49m\u001b[43maccept_sparse\u001b[49m\u001b[43m=\u001b[49m\u001b[43maccept_sparse\u001b[49m\u001b[43m,\u001b[49m\n\u001b[32m    606\u001b[39m \u001b[43m    \u001b[49m\u001b[43my_numeric\u001b[49m\u001b[43m=\u001b[49m\u001b[38;5;28;43;01mTrue\u001b[39;49;00m\u001b[43m,\u001b[49m\n\u001b[32m    607\u001b[39m \u001b[43m    \u001b[49m\u001b[43mmulti_output\u001b[49m\u001b[43m=\u001b[49m\u001b[38;5;28;43;01mTrue\u001b[39;49;00m\u001b[43m,\u001b[49m\n\u001b[32m    608\u001b[39m \u001b[43m    \u001b[49m\u001b[43mforce_writeable\u001b[49m\u001b[43m=\u001b[49m\u001b[38;5;28;43;01mTrue\u001b[39;49;00m\u001b[43m,\u001b[49m\n\u001b[32m    609\u001b[39m \u001b[43m\u001b[49m\u001b[43m)\u001b[49m\n\u001b[32m    611\u001b[39m has_sw = sample_weight \u001b[38;5;129;01mis\u001b[39;00m \u001b[38;5;129;01mnot\u001b[39;00m \u001b[38;5;28;01mNone\u001b[39;00m\n\u001b[32m    612\u001b[39m \u001b[38;5;28;01mif\u001b[39;00m has_sw:\n",
      "\u001b[36mFile \u001b[39m\u001b[32m~/Desktop/Machine Learning/Project/venv/lib/python3.13/site-packages/sklearn/utils/validation.py:2961\u001b[39m, in \u001b[36mvalidate_data\u001b[39m\u001b[34m(_estimator, X, y, reset, validate_separately, skip_check_array, **check_params)\u001b[39m\n\u001b[32m   2959\u001b[39m         y = check_array(y, input_name=\u001b[33m\"\u001b[39m\u001b[33my\u001b[39m\u001b[33m\"\u001b[39m, **check_y_params)\n\u001b[32m   2960\u001b[39m     \u001b[38;5;28;01melse\u001b[39;00m:\n\u001b[32m-> \u001b[39m\u001b[32m2961\u001b[39m         X, y = \u001b[43mcheck_X_y\u001b[49m\u001b[43m(\u001b[49m\u001b[43mX\u001b[49m\u001b[43m,\u001b[49m\u001b[43m \u001b[49m\u001b[43my\u001b[49m\u001b[43m,\u001b[49m\u001b[43m \u001b[49m\u001b[43m*\u001b[49m\u001b[43m*\u001b[49m\u001b[43mcheck_params\u001b[49m\u001b[43m)\u001b[49m\n\u001b[32m   2962\u001b[39m     out = X, y\n\u001b[32m   2964\u001b[39m \u001b[38;5;28;01mif\u001b[39;00m \u001b[38;5;129;01mnot\u001b[39;00m no_val_X \u001b[38;5;129;01mand\u001b[39;00m check_params.get(\u001b[33m\"\u001b[39m\u001b[33mensure_2d\u001b[39m\u001b[33m\"\u001b[39m, \u001b[38;5;28;01mTrue\u001b[39;00m):\n",
      "\u001b[36mFile \u001b[39m\u001b[32m~/Desktop/Machine Learning/Project/venv/lib/python3.13/site-packages/sklearn/utils/validation.py:1370\u001b[39m, in \u001b[36mcheck_X_y\u001b[39m\u001b[34m(X, y, accept_sparse, accept_large_sparse, dtype, order, copy, force_writeable, force_all_finite, ensure_all_finite, ensure_2d, allow_nd, multi_output, ensure_min_samples, ensure_min_features, y_numeric, estimator)\u001b[39m\n\u001b[32m   1364\u001b[39m     \u001b[38;5;28;01mraise\u001b[39;00m \u001b[38;5;167;01mValueError\u001b[39;00m(\n\u001b[32m   1365\u001b[39m         \u001b[33mf\u001b[39m\u001b[33m\"\u001b[39m\u001b[38;5;132;01m{\u001b[39;00mestimator_name\u001b[38;5;132;01m}\u001b[39;00m\u001b[33m requires y to be passed, but the target y is None\u001b[39m\u001b[33m\"\u001b[39m\n\u001b[32m   1366\u001b[39m     )\n\u001b[32m   1368\u001b[39m ensure_all_finite = _deprecate_force_all_finite(force_all_finite, ensure_all_finite)\n\u001b[32m-> \u001b[39m\u001b[32m1370\u001b[39m X = \u001b[43mcheck_array\u001b[49m\u001b[43m(\u001b[49m\n\u001b[32m   1371\u001b[39m \u001b[43m    \u001b[49m\u001b[43mX\u001b[49m\u001b[43m,\u001b[49m\n\u001b[32m   1372\u001b[39m \u001b[43m    \u001b[49m\u001b[43maccept_sparse\u001b[49m\u001b[43m=\u001b[49m\u001b[43maccept_sparse\u001b[49m\u001b[43m,\u001b[49m\n\u001b[32m   1373\u001b[39m \u001b[43m    \u001b[49m\u001b[43maccept_large_sparse\u001b[49m\u001b[43m=\u001b[49m\u001b[43maccept_large_sparse\u001b[49m\u001b[43m,\u001b[49m\n\u001b[32m   1374\u001b[39m \u001b[43m    \u001b[49m\u001b[43mdtype\u001b[49m\u001b[43m=\u001b[49m\u001b[43mdtype\u001b[49m\u001b[43m,\u001b[49m\n\u001b[32m   1375\u001b[39m \u001b[43m    \u001b[49m\u001b[43morder\u001b[49m\u001b[43m=\u001b[49m\u001b[43morder\u001b[49m\u001b[43m,\u001b[49m\n\u001b[32m   1376\u001b[39m \u001b[43m    \u001b[49m\u001b[43mcopy\u001b[49m\u001b[43m=\u001b[49m\u001b[43mcopy\u001b[49m\u001b[43m,\u001b[49m\n\u001b[32m   1377\u001b[39m \u001b[43m    \u001b[49m\u001b[43mforce_writeable\u001b[49m\u001b[43m=\u001b[49m\u001b[43mforce_writeable\u001b[49m\u001b[43m,\u001b[49m\n\u001b[32m   1378\u001b[39m \u001b[43m    \u001b[49m\u001b[43mensure_all_finite\u001b[49m\u001b[43m=\u001b[49m\u001b[43mensure_all_finite\u001b[49m\u001b[43m,\u001b[49m\n\u001b[32m   1379\u001b[39m \u001b[43m    \u001b[49m\u001b[43mensure_2d\u001b[49m\u001b[43m=\u001b[49m\u001b[43mensure_2d\u001b[49m\u001b[43m,\u001b[49m\n\u001b[32m   1380\u001b[39m \u001b[43m    \u001b[49m\u001b[43mallow_nd\u001b[49m\u001b[43m=\u001b[49m\u001b[43mallow_nd\u001b[49m\u001b[43m,\u001b[49m\n\u001b[32m   1381\u001b[39m \u001b[43m    \u001b[49m\u001b[43mensure_min_samples\u001b[49m\u001b[43m=\u001b[49m\u001b[43mensure_min_samples\u001b[49m\u001b[43m,\u001b[49m\n\u001b[32m   1382\u001b[39m \u001b[43m    \u001b[49m\u001b[43mensure_min_features\u001b[49m\u001b[43m=\u001b[49m\u001b[43mensure_min_features\u001b[49m\u001b[43m,\u001b[49m\n\u001b[32m   1383\u001b[39m \u001b[43m    \u001b[49m\u001b[43mestimator\u001b[49m\u001b[43m=\u001b[49m\u001b[43mestimator\u001b[49m\u001b[43m,\u001b[49m\n\u001b[32m   1384\u001b[39m \u001b[43m    \u001b[49m\u001b[43minput_name\u001b[49m\u001b[43m=\u001b[49m\u001b[33;43m\"\u001b[39;49m\u001b[33;43mX\u001b[39;49m\u001b[33;43m\"\u001b[39;49m\u001b[43m,\u001b[49m\n\u001b[32m   1385\u001b[39m \u001b[43m\u001b[49m\u001b[43m)\u001b[49m\n\u001b[32m   1387\u001b[39m y = _check_y(y, multi_output=multi_output, y_numeric=y_numeric, estimator=estimator)\n\u001b[32m   1389\u001b[39m check_consistent_length(X, y)\n",
      "\u001b[36mFile \u001b[39m\u001b[32m~/Desktop/Machine Learning/Project/venv/lib/python3.13/site-packages/sklearn/utils/validation.py:1107\u001b[39m, in \u001b[36mcheck_array\u001b[39m\u001b[34m(array, accept_sparse, accept_large_sparse, dtype, order, copy, force_writeable, force_all_finite, ensure_all_finite, ensure_non_negative, ensure_2d, allow_nd, ensure_min_samples, ensure_min_features, estimator, input_name)\u001b[39m\n\u001b[32m   1101\u001b[39m     \u001b[38;5;28;01mraise\u001b[39;00m \u001b[38;5;167;01mValueError\u001b[39;00m(\n\u001b[32m   1102\u001b[39m         \u001b[33m\"\u001b[39m\u001b[33mFound array with dim \u001b[39m\u001b[38;5;132;01m%d\u001b[39;00m\u001b[33m. \u001b[39m\u001b[38;5;132;01m%s\u001b[39;00m\u001b[33m expected <= 2.\u001b[39m\u001b[33m\"\u001b[39m\n\u001b[32m   1103\u001b[39m         % (array.ndim, estimator_name)\n\u001b[32m   1104\u001b[39m     )\n\u001b[32m   1106\u001b[39m \u001b[38;5;28;01mif\u001b[39;00m ensure_all_finite:\n\u001b[32m-> \u001b[39m\u001b[32m1107\u001b[39m     \u001b[43m_assert_all_finite\u001b[49m\u001b[43m(\u001b[49m\n\u001b[32m   1108\u001b[39m \u001b[43m        \u001b[49m\u001b[43marray\u001b[49m\u001b[43m,\u001b[49m\n\u001b[32m   1109\u001b[39m \u001b[43m        \u001b[49m\u001b[43minput_name\u001b[49m\u001b[43m=\u001b[49m\u001b[43minput_name\u001b[49m\u001b[43m,\u001b[49m\n\u001b[32m   1110\u001b[39m \u001b[43m        \u001b[49m\u001b[43mestimator_name\u001b[49m\u001b[43m=\u001b[49m\u001b[43mestimator_name\u001b[49m\u001b[43m,\u001b[49m\n\u001b[32m   1111\u001b[39m \u001b[43m        \u001b[49m\u001b[43mallow_nan\u001b[49m\u001b[43m=\u001b[49m\u001b[43mensure_all_finite\u001b[49m\u001b[43m \u001b[49m\u001b[43m==\u001b[49m\u001b[43m \u001b[49m\u001b[33;43m\"\u001b[39;49m\u001b[33;43mallow-nan\u001b[39;49m\u001b[33;43m\"\u001b[39;49m\u001b[43m,\u001b[49m\n\u001b[32m   1112\u001b[39m \u001b[43m    \u001b[49m\u001b[43m)\u001b[49m\n\u001b[32m   1114\u001b[39m \u001b[38;5;28;01mif\u001b[39;00m copy:\n\u001b[32m   1115\u001b[39m     \u001b[38;5;28;01mif\u001b[39;00m _is_numpy_namespace(xp):\n\u001b[32m   1116\u001b[39m         \u001b[38;5;66;03m# only make a copy if `array` and `array_orig` may share memory`\u001b[39;00m\n",
      "\u001b[36mFile \u001b[39m\u001b[32m~/Desktop/Machine Learning/Project/venv/lib/python3.13/site-packages/sklearn/utils/validation.py:120\u001b[39m, in \u001b[36m_assert_all_finite\u001b[39m\u001b[34m(X, allow_nan, msg_dtype, estimator_name, input_name)\u001b[39m\n\u001b[32m    117\u001b[39m \u001b[38;5;28;01mif\u001b[39;00m first_pass_isfinite:\n\u001b[32m    118\u001b[39m     \u001b[38;5;28;01mreturn\u001b[39;00m\n\u001b[32m--> \u001b[39m\u001b[32m120\u001b[39m \u001b[43m_assert_all_finite_element_wise\u001b[49m\u001b[43m(\u001b[49m\n\u001b[32m    121\u001b[39m \u001b[43m    \u001b[49m\u001b[43mX\u001b[49m\u001b[43m,\u001b[49m\n\u001b[32m    122\u001b[39m \u001b[43m    \u001b[49m\u001b[43mxp\u001b[49m\u001b[43m=\u001b[49m\u001b[43mxp\u001b[49m\u001b[43m,\u001b[49m\n\u001b[32m    123\u001b[39m \u001b[43m    \u001b[49m\u001b[43mallow_nan\u001b[49m\u001b[43m=\u001b[49m\u001b[43mallow_nan\u001b[49m\u001b[43m,\u001b[49m\n\u001b[32m    124\u001b[39m \u001b[43m    \u001b[49m\u001b[43mmsg_dtype\u001b[49m\u001b[43m=\u001b[49m\u001b[43mmsg_dtype\u001b[49m\u001b[43m,\u001b[49m\n\u001b[32m    125\u001b[39m \u001b[43m    \u001b[49m\u001b[43mestimator_name\u001b[49m\u001b[43m=\u001b[49m\u001b[43mestimator_name\u001b[49m\u001b[43m,\u001b[49m\n\u001b[32m    126\u001b[39m \u001b[43m    \u001b[49m\u001b[43minput_name\u001b[49m\u001b[43m=\u001b[49m\u001b[43minput_name\u001b[49m\u001b[43m,\u001b[49m\n\u001b[32m    127\u001b[39m \u001b[43m\u001b[49m\u001b[43m)\u001b[49m\n",
      "\u001b[36mFile \u001b[39m\u001b[32m~/Desktop/Machine Learning/Project/venv/lib/python3.13/site-packages/sklearn/utils/validation.py:169\u001b[39m, in \u001b[36m_assert_all_finite_element_wise\u001b[39m\u001b[34m(X, xp, allow_nan, msg_dtype, estimator_name, input_name)\u001b[39m\n\u001b[32m    152\u001b[39m \u001b[38;5;28;01mif\u001b[39;00m estimator_name \u001b[38;5;129;01mand\u001b[39;00m input_name == \u001b[33m\"\u001b[39m\u001b[33mX\u001b[39m\u001b[33m\"\u001b[39m \u001b[38;5;129;01mand\u001b[39;00m has_nan_error:\n\u001b[32m    153\u001b[39m     \u001b[38;5;66;03m# Improve the error message on how to handle missing values in\u001b[39;00m\n\u001b[32m    154\u001b[39m     \u001b[38;5;66;03m# scikit-learn.\u001b[39;00m\n\u001b[32m    155\u001b[39m     msg_err += (\n\u001b[32m    156\u001b[39m         \u001b[33mf\u001b[39m\u001b[33m\"\u001b[39m\u001b[38;5;130;01m\\n\u001b[39;00m\u001b[38;5;132;01m{\u001b[39;00mestimator_name\u001b[38;5;132;01m}\u001b[39;00m\u001b[33m does not accept missing values\u001b[39m\u001b[33m\"\u001b[39m\n\u001b[32m    157\u001b[39m         \u001b[33m\"\u001b[39m\u001b[33m encoded as NaN natively. For supervised learning, you might want\u001b[39m\u001b[33m\"\u001b[39m\n\u001b[32m   (...)\u001b[39m\u001b[32m    167\u001b[39m         \u001b[33m\"\u001b[39m\u001b[33m#estimators-that-handle-nan-values\u001b[39m\u001b[33m\"\u001b[39m\n\u001b[32m    168\u001b[39m     )\n\u001b[32m--> \u001b[39m\u001b[32m169\u001b[39m \u001b[38;5;28;01mraise\u001b[39;00m \u001b[38;5;167;01mValueError\u001b[39;00m(msg_err)\n",
      "\u001b[31mValueError\u001b[39m: Input X contains NaN.\nLinearRegression does not accept missing values encoded as NaN natively. For supervised learning, you might want to consider sklearn.ensemble.HistGradientBoostingClassifier and Regressor which accept missing values encoded as NaNs natively. Alternatively, it is possible to preprocess the data, for instance by using an imputer transformer in a pipeline or drop samples with missing values. See https://scikit-learn.org/stable/modules/impute.html You can find a list of all estimators that handle NaN values at the following page: https://scikit-learn.org/stable/modules/impute.html#estimators-that-handle-nan-values"
     ]
    }
   ],
   "source": [
    "from sklearn.linear_model import LinearRegression\n",
    "from sklearn.metrics import r2_score , mean_squared_error\n",
    "model = LinearRegression()\n",
    "model.fit(x_train,y_train)\n",
    "y_pred = model.predict(x_test)\n",
    "\n",
    "print(\"R² Score:\", r2_score(y_test, y_pred))\n",
    "print(\"RMSE:\", mean_squared_error(y_test, y_pred, squared=False))"
   ]
  }
 ],
 "metadata": {
  "kernelspec": {
   "display_name": "venv",
   "language": "python",
   "name": "python3"
  },
  "language_info": {
   "codemirror_mode": {
    "name": "ipython",
    "version": 3
   },
   "file_extension": ".py",
   "mimetype": "text/x-python",
   "name": "python",
   "nbconvert_exporter": "python",
   "pygments_lexer": "ipython3",
   "version": "3.13.3"
  }
 },
 "nbformat": 4,
 "nbformat_minor": 5
}
