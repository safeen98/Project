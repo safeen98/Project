{
 "cells": [
  {
   "cell_type": "code",
   "execution_count": 1,
   "id": "94b01ea6",
   "metadata": {},
   "outputs": [
    {
     "ename": "ModuleNotFoundError",
     "evalue": "No module named 'numpy'",
     "output_type": "error",
     "traceback": [
      "\u001b[31m---------------------------------------------------------------------------\u001b[39m",
      "\u001b[31mModuleNotFoundError\u001b[39m                       Traceback (most recent call last)",
      "\u001b[36mCell\u001b[39m\u001b[36m \u001b[39m\u001b[32mIn[1]\u001b[39m\u001b[32m, line 1\u001b[39m\n\u001b[32m----> \u001b[39m\u001b[32m1\u001b[39m \u001b[38;5;28;01mimport\u001b[39;00m\u001b[38;5;250m \u001b[39m\u001b[34;01mnumpy\u001b[39;00m\u001b[38;5;250m \u001b[39m\u001b[38;5;28;01mas\u001b[39;00m\u001b[38;5;250m \u001b[39m\u001b[34;01mnp\u001b[39;00m\n\u001b[32m      2\u001b[39m \u001b[38;5;28;01mimport\u001b[39;00m\u001b[38;5;250m \u001b[39m\u001b[34;01mpandas\u001b[39;00m\u001b[38;5;250m \u001b[39m\u001b[38;5;28;01mas\u001b[39;00m\u001b[38;5;250m \u001b[39m\u001b[34;01mpd\u001b[39;00m\n\u001b[32m      3\u001b[39m \u001b[38;5;28;01mimport\u001b[39;00m\u001b[38;5;250m \u001b[39m\u001b[34;01mos\u001b[39;00m\n",
      "\u001b[31mModuleNotFoundError\u001b[39m: No module named 'numpy'"
     ]
    }
   ],
   "source": [
    "import numpy as np\n",
    "import pandas as pd\n",
    "import os"
   ]
  },
  {
   "cell_type": "code",
   "execution_count": 13,
   "id": "5b2e4e14",
   "metadata": {},
   "outputs": [
    {
     "name": "stdout",
     "output_type": "stream",
     "text": [
      "Path to dataset files: /Users/mohdsafeenkhan/.cache/kagglehub/datasets/uciml/sms-spam-collection-dataset/versions/1\n",
      "File exists: True\n",
      "Files in directory:\n",
      "spam.csv\n"
     ]
    }
   ],
   "source": [
    "import kagglehub\n",
    "\n",
    "# Download latest version\n",
    "path = kagglehub.dataset_download(\"uciml/sms-spam-collection-dataset\")\n",
    "\n",
    "print(\"Path to dataset files:\", path)\n",
    "data_file = os.path.join(path,\"spam.csv\")\n",
    "print(\"File exists:\", os.path.exists(data_file))\n",
    "print(\"Files in directory:\")\n",
    "for f in os.listdir(path):\n",
    "    print(f)"
   ]
  },
  {
   "cell_type": "code",
   "execution_count": 17,
   "id": "293fa65c",
   "metadata": {},
   "outputs": [
    {
     "data": {
      "text/html": [
       "<div>\n",
       "<style scoped>\n",
       "    .dataframe tbody tr th:only-of-type {\n",
       "        vertical-align: middle;\n",
       "    }\n",
       "\n",
       "    .dataframe tbody tr th {\n",
       "        vertical-align: top;\n",
       "    }\n",
       "\n",
       "    .dataframe thead th {\n",
       "        text-align: right;\n",
       "    }\n",
       "</style>\n",
       "<table border=\"1\" class=\"dataframe\">\n",
       "  <thead>\n",
       "    <tr style=\"text-align: right;\">\n",
       "      <th></th>\n",
       "      <th>v1</th>\n",
       "      <th>v2</th>\n",
       "    </tr>\n",
       "  </thead>\n",
       "  <tbody>\n",
       "    <tr>\n",
       "      <th>0</th>\n",
       "      <td>ham</td>\n",
       "      <td>Go until jurong point, crazy.. Available only ...</td>\n",
       "    </tr>\n",
       "    <tr>\n",
       "      <th>1</th>\n",
       "      <td>ham</td>\n",
       "      <td>Ok lar... Joking wif u oni...</td>\n",
       "    </tr>\n",
       "    <tr>\n",
       "      <th>2</th>\n",
       "      <td>spam</td>\n",
       "      <td>Free entry in 2 a wkly comp to win FA Cup fina...</td>\n",
       "    </tr>\n",
       "    <tr>\n",
       "      <th>3</th>\n",
       "      <td>ham</td>\n",
       "      <td>U dun say so early hor... U c already then say...</td>\n",
       "    </tr>\n",
       "    <tr>\n",
       "      <th>4</th>\n",
       "      <td>ham</td>\n",
       "      <td>Nah I don't think he goes to usf, he lives aro...</td>\n",
       "    </tr>\n",
       "  </tbody>\n",
       "</table>\n",
       "</div>"
      ],
      "text/plain": [
       "     v1                                                 v2\n",
       "0   ham  Go until jurong point, crazy.. Available only ...\n",
       "1   ham                      Ok lar... Joking wif u oni...\n",
       "2  spam  Free entry in 2 a wkly comp to win FA Cup fina...\n",
       "3   ham  U dun say so early hor... U c already then say...\n",
       "4   ham  Nah I don't think he goes to usf, he lives aro..."
      ]
     },
     "execution_count": 17,
     "metadata": {},
     "output_type": "execute_result"
    }
   ],
   "source": [
    "df = pd.read_csv(data_file,encoding='latin-1')[['v1','v2']]\n",
    "#df = pd.read_csv(data_file, sep='\\t', header=None, names=[\"label\", \"message\"])df\n",
    "df.head()"
   ]
  },
  {
   "cell_type": "code",
   "execution_count": 19,
   "id": "29459fc9",
   "metadata": {},
   "outputs": [],
   "source": [
    "df.columns = ['label','message']\n",
    "df['label'] = df['label'].map({'ham':0,'spam':1}) #panda series map"
   ]
  },
  {
   "cell_type": "code",
   "execution_count": 23,
   "id": "8344873b",
   "metadata": {},
   "outputs": [
    {
     "name": "stdout",
     "output_type": "stream",
     "text": [
      "<Compressed Sparse Row sparse matrix of dtype 'float64'\n",
      "\twith 7693 stored elements and shape (1115, 7472)>\n",
      "  Coords\tValues\n",
      "  (0, 1756)\t0.31111329907426943\n",
      "  (0, 2679)\t0.3500886226408095\n",
      "  (0, 2974)\t0.34299776014114036\n",
      "  (0, 3239)\t0.34299776014114036\n",
      "  (0, 3457)\t0.3500886226408095\n",
      "  (0, 3752)\t0.1718556592061185\n",
      "  (0, 4543)\t0.38197308370768035\n",
      "  (0, 6816)\t0.4006242977875035\n",
      "  (0, 7229)\t0.2947064107791228\n",
      "  (1, 1934)\t0.22392171769600464\n",
      "  (1, 1970)\t0.2461378627103295\n",
      "  (1, 2651)\t0.3269309971271071\n",
      "  (1, 3716)\t0.3178303138520559\n",
      "  (1, 4760)\t0.29866169283344046\n",
      "  (1, 5532)\t0.33866381848750327\n",
      "  (1, 5738)\t0.25559165628741076\n",
      "  (1, 5739)\t0.35520030142077386\n",
      "  (1, 5744)\t0.35520030142077386\n",
      "  (1, 5812)\t0.22078293973996208\n",
      "  (1, 6604)\t0.19484478334547534\n",
      "  (1, 6607)\t0.27039238853977376\n",
      "  (2, 305)\t0.3193869031809334\n",
      "  (2, 2707)\t0.4882288103453305\n",
      "  (2, 3835)\t0.4855870501823454\n",
      "  (2, 4106)\t0.5120683436791947\n",
      "  :\t:\n",
      "  (1110, 1533)\t0.2553888613819584\n",
      "  (1110, 1599)\t0.27571108916401915\n",
      "  (1110, 1745)\t0.3876535449194833\n",
      "  (1110, 1869)\t0.3876535449194833\n",
      "  (1110, 2148)\t0.301483654608874\n",
      "  (1110, 2651)\t0.3742235014841453\n",
      "  (1110, 3174)\t0.19113154928290435\n",
      "  (1110, 3363)\t0.3742235014841453\n",
      "  (1110, 4022)\t0.191596066847086\n",
      "  (1110, 4109)\t0.1906716083208562\n",
      "  (1111, 268)\t0.3746977741925054\n",
      "  (1111, 503)\t0.47727320057783823\n",
      "  (1111, 1012)\t0.47727320057783823\n",
      "  (1111, 1459)\t0.45505356814989883\n",
      "  (1111, 2451)\t0.33671306166726417\n",
      "  (1111, 4435)\t0.2890894779341821\n",
      "  (1112, 4362)\t0.5790142409011977\n",
      "  (1112, 6561)\t0.6933358898870733\n",
      "  (1112, 7404)\t0.4289846764490662\n",
      "  (1113, 2362)\t1.0\n",
      "  (1114, 305)\t0.3544958704238923\n",
      "  (1114, 1309)\t0.5418979155552348\n",
      "  (1114, 1408)\t0.38742253378806535\n",
      "  (1114, 4580)\t0.5231241609003211\n",
      "  (1114, 5073)\t0.39613661729871547\n",
      "<Compressed Sparse Row sparse matrix of dtype 'float64'\n",
      "\twith 7693 stored elements and shape (1115, 7472)>\n",
      "  Coords\tValues\n",
      "  (0, 1756)\t0.31111329907426943\n",
      "  (0, 2679)\t0.3500886226408095\n",
      "  (0, 2974)\t0.34299776014114036\n",
      "  (0, 3239)\t0.34299776014114036\n",
      "  (0, 3457)\t0.3500886226408095\n",
      "  (0, 3752)\t0.1718556592061185\n",
      "  (0, 4543)\t0.38197308370768035\n",
      "  (0, 6816)\t0.4006242977875035\n",
      "  (0, 7229)\t0.2947064107791228\n",
      "  (1, 1934)\t0.22392171769600464\n",
      "  (1, 1970)\t0.2461378627103295\n",
      "  (1, 2651)\t0.3269309971271071\n",
      "  (1, 3716)\t0.3178303138520559\n",
      "  (1, 4760)\t0.29866169283344046\n",
      "  (1, 5532)\t0.33866381848750327\n",
      "  (1, 5738)\t0.25559165628741076\n",
      "  (1, 5739)\t0.35520030142077386\n",
      "  (1, 5744)\t0.35520030142077386\n",
      "  (1, 5812)\t0.22078293973996208\n",
      "  (1, 6604)\t0.19484478334547534\n",
      "  (1, 6607)\t0.27039238853977376\n",
      "  (2, 305)\t0.3193869031809334\n",
      "  (2, 2707)\t0.4882288103453305\n",
      "  (2, 3835)\t0.4855870501823454\n",
      "  (2, 4106)\t0.5120683436791947\n",
      "  :\t:\n",
      "  (1110, 1533)\t0.2553888613819584\n",
      "  (1110, 1599)\t0.27571108916401915\n",
      "  (1110, 1745)\t0.3876535449194833\n",
      "  (1110, 1869)\t0.3876535449194833\n",
      "  (1110, 2148)\t0.301483654608874\n",
      "  (1110, 2651)\t0.3742235014841453\n",
      "  (1110, 3174)\t0.19113154928290435\n",
      "  (1110, 3363)\t0.3742235014841453\n",
      "  (1110, 4022)\t0.191596066847086\n",
      "  (1110, 4109)\t0.1906716083208562\n",
      "  (1111, 268)\t0.3746977741925054\n",
      "  (1111, 503)\t0.47727320057783823\n",
      "  (1111, 1012)\t0.47727320057783823\n",
      "  (1111, 1459)\t0.45505356814989883\n",
      "  (1111, 2451)\t0.33671306166726417\n",
      "  (1111, 4435)\t0.2890894779341821\n",
      "  (1112, 4362)\t0.5790142409011977\n",
      "  (1112, 6561)\t0.6933358898870733\n",
      "  (1112, 7404)\t0.4289846764490662\n",
      "  (1113, 2362)\t1.0\n",
      "  (1114, 305)\t0.3544958704238923\n",
      "  (1114, 1309)\t0.5418979155552348\n",
      "  (1114, 1408)\t0.38742253378806535\n",
      "  (1114, 4580)\t0.5231241609003211\n",
      "  (1114, 5073)\t0.39613661729871547\n"
     ]
    }
   ],
   "source": [
    "from sklearn.model_selection import train_test_split\n",
    "from sklearn.feature_extraction.text import TfidfVectorizer\n",
    "\n",
    "x_train , x_test , y_train,y_test = train_test_split(df['message'],df['label'],test_size = 0.2 , random_state=42)\n",
    "\n",
    "vectorizer = TfidfVectorizer(stop_words = 'english')\n",
    "\n",
    "x_train_vec = vectorizer.fit_transform(x_train)\n",
    "x_test_vec = vectorizer.transform(x_test)\n",
    "print(x_test_vec)\n",
    "print(x_test_vec)"
   ]
  },
  {
   "cell_type": "code",
   "execution_count": 27,
   "id": "15027496",
   "metadata": {},
   "outputs": [
    {
     "name": "stdout",
     "output_type": "stream",
     "text": [
      "Naive Bayes Results:\n",
      "[[965   0]\n",
      " [ 37 113]]\n",
      "              precision    recall  f1-score   support\n",
      "\n",
      "           0       0.96      1.00      0.98       965\n",
      "           1       1.00      0.75      0.86       150\n",
      "\n",
      "    accuracy                           0.97      1115\n",
      "   macro avg       0.98      0.88      0.92      1115\n",
      "weighted avg       0.97      0.97      0.96      1115\n",
      "\n"
     ]
    }
   ],
   "source": [
    "from sklearn.naive_bayes import MultinomialNB\n",
    "from sklearn.metrics import classification_report , confusion_matrix\n",
    "\n",
    "model = MultinomialNB()\n",
    "model.fit(x_train_vec,y_train)\n",
    "model_pred = model.predict(x_test_vec)\n",
    "\n",
    "print(\"Naive Bayes Results:\")\n",
    "print(confusion_matrix(y_test, model_pred))\n",
    "print(classification_report(y_test, model_pred))\n"
   ]
  },
  {
   "cell_type": "code",
   "execution_count": 37,
   "id": "d0be0fa1",
   "metadata": {},
   "outputs": [
    {
     "name": "stdout",
     "output_type": "stream",
     "text": [
      "Results for Threshold = 0.16\n",
      "              precision    recall  f1-score   support\n",
      "\n",
      "           0       0.99      0.99      0.99       965\n",
      "           1       0.91      0.91      0.91       150\n",
      "\n",
      "    accuracy                           0.98      1115\n",
      "   macro avg       0.95      0.95      0.95      1115\n",
      "weighted avg       0.98      0.98      0.98      1115\n",
      "\n",
      "[[951  14]\n",
      " [ 13 137]]\n"
     ]
    }
   ],
   "source": [
    "y_prob = model.predict_proba(x_test_vec)\n",
    "#print(y_prob)\n",
    "# Set a custom threshold\n",
    "threshold = 0.16  # You can adjust this (e.g., 0.3 is more aggressive in flagging spam)\n",
    "\n",
    "# Apply threshold to get final predictions\n",
    "y_pred_custom = (y_prob[:, 1] >= threshold).astype(int)\n",
    "print(f\"Results for Threshold = {threshold}\")\n",
    "print(classification_report(y_test, y_pred_custom))\n",
    "print(confusion_matrix(y_test, y_pred_custom))"
   ]
  }
 ],
 "metadata": {
  "kernelspec": {
   "display_name": "venv",
   "language": "python",
   "name": "python3"
  },
  "language_info": {
   "codemirror_mode": {
    "name": "ipython",
    "version": 3
   },
   "file_extension": ".py",
   "mimetype": "text/x-python",
   "name": "python",
   "nbconvert_exporter": "python",
   "pygments_lexer": "ipython3",
   "version": "3.13.3"
  }
 },
 "nbformat": 4,
 "nbformat_minor": 5
}
