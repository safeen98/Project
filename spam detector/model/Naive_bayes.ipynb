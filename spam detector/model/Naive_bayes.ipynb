{
 "cells": [
  {
   "cell_type": "markdown",
   "id": "20b92b9b",
   "metadata": {},
   "source": [
    "Importing pandas and os module for fetching and using the data in our algoeithm"
   ]
  },
  {
   "cell_type": "code",
   "execution_count": 32,
   "id": "5b2e4e14",
   "metadata": {},
   "outputs": [
    {
     "name": "stdout",
     "output_type": "stream",
     "text": [
      "File exists: True\n"
     ]
    }
   ],
   "source": [
    "\n",
    "import pandas as pd\n",
    "import os\n",
    "path = ('/Users/mohdsafeenkhan/Desktop/Machine Learning/Project/spam detector/data/')\n",
    "data_file = os.path.join(path,\"spam.csv\")\n",
    "print(\"File exists:\", os.path.exists(data_file))"
   ]
  },
  {
   "cell_type": "markdown",
   "id": "2fb7e69b",
   "metadata": {},
   "source": [
    "reasding our data and marking the column as v1 and v2"
   ]
  },
  {
   "cell_type": "code",
   "execution_count": 33,
   "id": "293fa65c",
   "metadata": {},
   "outputs": [
    {
     "data": {
      "text/html": [
       "<div>\n",
       "<style scoped>\n",
       "    .dataframe tbody tr th:only-of-type {\n",
       "        vertical-align: middle;\n",
       "    }\n",
       "\n",
       "    .dataframe tbody tr th {\n",
       "        vertical-align: top;\n",
       "    }\n",
       "\n",
       "    .dataframe thead th {\n",
       "        text-align: right;\n",
       "    }\n",
       "</style>\n",
       "<table border=\"1\" class=\"dataframe\">\n",
       "  <thead>\n",
       "    <tr style=\"text-align: right;\">\n",
       "      <th></th>\n",
       "      <th>v1</th>\n",
       "      <th>v2</th>\n",
       "    </tr>\n",
       "  </thead>\n",
       "  <tbody>\n",
       "    <tr>\n",
       "      <th>0</th>\n",
       "      <td>ham</td>\n",
       "      <td>Go until jurong point, crazy.. Available only ...</td>\n",
       "    </tr>\n",
       "    <tr>\n",
       "      <th>1</th>\n",
       "      <td>ham</td>\n",
       "      <td>Ok lar... Joking wif u oni...</td>\n",
       "    </tr>\n",
       "    <tr>\n",
       "      <th>2</th>\n",
       "      <td>spam</td>\n",
       "      <td>Free entry in 2 a wkly comp to win FA Cup fina...</td>\n",
       "    </tr>\n",
       "    <tr>\n",
       "      <th>3</th>\n",
       "      <td>ham</td>\n",
       "      <td>U dun say so early hor... U c already then say...</td>\n",
       "    </tr>\n",
       "    <tr>\n",
       "      <th>4</th>\n",
       "      <td>ham</td>\n",
       "      <td>Nah I don't think he goes to usf, he lives aro...</td>\n",
       "    </tr>\n",
       "  </tbody>\n",
       "</table>\n",
       "</div>"
      ],
      "text/plain": [
       "     v1                                                 v2\n",
       "0   ham  Go until jurong point, crazy.. Available only ...\n",
       "1   ham                      Ok lar... Joking wif u oni...\n",
       "2  spam  Free entry in 2 a wkly comp to win FA Cup fina...\n",
       "3   ham  U dun say so early hor... U c already then say...\n",
       "4   ham  Nah I don't think he goes to usf, he lives aro..."
      ]
     },
     "execution_count": 33,
     "metadata": {},
     "output_type": "execute_result"
    }
   ],
   "source": [
    "df = pd.read_csv(data_file,encoding='latin-1')[['v1','v2']]\n",
    "df.head()"
   ]
  },
  {
   "cell_type": "markdown",
   "id": "25792d11",
   "metadata": {},
   "source": [
    "now in this step we will rename the column as label as in what label we have that can be either ham or spam , and message , which we will be classifiying ."
   ]
  },
  {
   "cell_type": "code",
   "execution_count": 34,
   "id": "29459fc9",
   "metadata": {},
   "outputs": [
    {
     "data": {
      "text/html": [
       "<div>\n",
       "<style scoped>\n",
       "    .dataframe tbody tr th:only-of-type {\n",
       "        vertical-align: middle;\n",
       "    }\n",
       "\n",
       "    .dataframe tbody tr th {\n",
       "        vertical-align: top;\n",
       "    }\n",
       "\n",
       "    .dataframe thead th {\n",
       "        text-align: right;\n",
       "    }\n",
       "</style>\n",
       "<table border=\"1\" class=\"dataframe\">\n",
       "  <thead>\n",
       "    <tr style=\"text-align: right;\">\n",
       "      <th></th>\n",
       "      <th>label</th>\n",
       "      <th>message</th>\n",
       "    </tr>\n",
       "  </thead>\n",
       "  <tbody>\n",
       "    <tr>\n",
       "      <th>0</th>\n",
       "      <td>0</td>\n",
       "      <td>Go until jurong point, crazy.. Available only ...</td>\n",
       "    </tr>\n",
       "    <tr>\n",
       "      <th>1</th>\n",
       "      <td>0</td>\n",
       "      <td>Ok lar... Joking wif u oni...</td>\n",
       "    </tr>\n",
       "    <tr>\n",
       "      <th>2</th>\n",
       "      <td>1</td>\n",
       "      <td>Free entry in 2 a wkly comp to win FA Cup fina...</td>\n",
       "    </tr>\n",
       "    <tr>\n",
       "      <th>3</th>\n",
       "      <td>0</td>\n",
       "      <td>U dun say so early hor... U c already then say...</td>\n",
       "    </tr>\n",
       "    <tr>\n",
       "      <th>4</th>\n",
       "      <td>0</td>\n",
       "      <td>Nah I don't think he goes to usf, he lives aro...</td>\n",
       "    </tr>\n",
       "  </tbody>\n",
       "</table>\n",
       "</div>"
      ],
      "text/plain": [
       "   label                                            message\n",
       "0      0  Go until jurong point, crazy.. Available only ...\n",
       "1      0                      Ok lar... Joking wif u oni...\n",
       "2      1  Free entry in 2 a wkly comp to win FA Cup fina...\n",
       "3      0  U dun say so early hor... U c already then say...\n",
       "4      0  Nah I don't think he goes to usf, he lives aro..."
      ]
     },
     "execution_count": 34,
     "metadata": {},
     "output_type": "execute_result"
    }
   ],
   "source": [
    "df.columns = ['label','message']\n",
    "df['label'] = df['label'].map({'ham':0,'spam':1}) #panda series map\n",
    "df.head()"
   ]
  },
  {
   "cell_type": "markdown",
   "id": "6b815e38",
   "metadata": {},
   "source": [
    "Now in this step we seprate our train and test data , then we will do is we will be converting the text data into number vector . For doing this we are going to use TF-IDF (Term Frequency - Inverse Document Frequency) , if I explain in short what this does it based on the value/ importance of a word in that document it assigns it a number."
   ]
  },
  {
   "cell_type": "code",
   "execution_count": 35,
   "id": "8344873b",
   "metadata": {},
   "outputs": [
    {
     "name": "stdout",
     "output_type": "stream",
     "text": [
      "<Compressed Sparse Row sparse matrix of dtype 'float64'\n",
      "\twith 7693 stored elements and shape (1115, 7472)>\n",
      "  Coords\tValues\n",
      "  (0, 1756)\t0.31111329907426943\n",
      "  (0, 2679)\t0.3500886226408095\n",
      "  (0, 2974)\t0.34299776014114036\n",
      "  (0, 3239)\t0.34299776014114036\n",
      "  (0, 3457)\t0.3500886226408095\n",
      "  (0, 3752)\t0.1718556592061185\n",
      "  (0, 4543)\t0.38197308370768035\n",
      "  (0, 6816)\t0.4006242977875035\n",
      "  (0, 7229)\t0.2947064107791228\n",
      "  (1, 1934)\t0.22392171769600464\n",
      "  (1, 1970)\t0.2461378627103295\n",
      "  (1, 2651)\t0.3269309971271071\n",
      "  (1, 3716)\t0.3178303138520559\n",
      "  (1, 4760)\t0.29866169283344046\n",
      "  (1, 5532)\t0.33866381848750327\n",
      "  (1, 5738)\t0.25559165628741076\n",
      "  (1, 5739)\t0.35520030142077386\n",
      "  (1, 5744)\t0.35520030142077386\n",
      "  (1, 5812)\t0.22078293973996208\n",
      "  (1, 6604)\t0.19484478334547534\n",
      "  (1, 6607)\t0.27039238853977376\n",
      "  (2, 305)\t0.3193869031809334\n",
      "  (2, 2707)\t0.4882288103453305\n",
      "  (2, 3835)\t0.4855870501823454\n",
      "  (2, 4106)\t0.5120683436791947\n",
      "  :\t:\n",
      "  (1110, 1533)\t0.2553888613819584\n",
      "  (1110, 1599)\t0.27571108916401915\n",
      "  (1110, 1745)\t0.3876535449194833\n",
      "  (1110, 1869)\t0.3876535449194833\n",
      "  (1110, 2148)\t0.301483654608874\n",
      "  (1110, 2651)\t0.3742235014841453\n",
      "  (1110, 3174)\t0.19113154928290435\n",
      "  (1110, 3363)\t0.3742235014841453\n",
      "  (1110, 4022)\t0.191596066847086\n",
      "  (1110, 4109)\t0.1906716083208562\n",
      "  (1111, 268)\t0.3746977741925054\n",
      "  (1111, 503)\t0.47727320057783823\n",
      "  (1111, 1012)\t0.47727320057783823\n",
      "  (1111, 1459)\t0.45505356814989883\n",
      "  (1111, 2451)\t0.33671306166726417\n",
      "  (1111, 4435)\t0.2890894779341821\n",
      "  (1112, 4362)\t0.5790142409011977\n",
      "  (1112, 6561)\t0.6933358898870733\n",
      "  (1112, 7404)\t0.4289846764490662\n",
      "  (1113, 2362)\t1.0\n",
      "  (1114, 305)\t0.3544958704238923\n",
      "  (1114, 1309)\t0.5418979155552348\n",
      "  (1114, 1408)\t0.38742253378806535\n",
      "  (1114, 4580)\t0.5231241609003211\n",
      "  (1114, 5073)\t0.39613661729871547\n",
      "<Compressed Sparse Row sparse matrix of dtype 'float64'\n",
      "\twith 7693 stored elements and shape (1115, 7472)>\n",
      "  Coords\tValues\n",
      "  (0, 1756)\t0.31111329907426943\n",
      "  (0, 2679)\t0.3500886226408095\n",
      "  (0, 2974)\t0.34299776014114036\n",
      "  (0, 3239)\t0.34299776014114036\n",
      "  (0, 3457)\t0.3500886226408095\n",
      "  (0, 3752)\t0.1718556592061185\n",
      "  (0, 4543)\t0.38197308370768035\n",
      "  (0, 6816)\t0.4006242977875035\n",
      "  (0, 7229)\t0.2947064107791228\n",
      "  (1, 1934)\t0.22392171769600464\n",
      "  (1, 1970)\t0.2461378627103295\n",
      "  (1, 2651)\t0.3269309971271071\n",
      "  (1, 3716)\t0.3178303138520559\n",
      "  (1, 4760)\t0.29866169283344046\n",
      "  (1, 5532)\t0.33866381848750327\n",
      "  (1, 5738)\t0.25559165628741076\n",
      "  (1, 5739)\t0.35520030142077386\n",
      "  (1, 5744)\t0.35520030142077386\n",
      "  (1, 5812)\t0.22078293973996208\n",
      "  (1, 6604)\t0.19484478334547534\n",
      "  (1, 6607)\t0.27039238853977376\n",
      "  (2, 305)\t0.3193869031809334\n",
      "  (2, 2707)\t0.4882288103453305\n",
      "  (2, 3835)\t0.4855870501823454\n",
      "  (2, 4106)\t0.5120683436791947\n",
      "  :\t:\n",
      "  (1110, 1533)\t0.2553888613819584\n",
      "  (1110, 1599)\t0.27571108916401915\n",
      "  (1110, 1745)\t0.3876535449194833\n",
      "  (1110, 1869)\t0.3876535449194833\n",
      "  (1110, 2148)\t0.301483654608874\n",
      "  (1110, 2651)\t0.3742235014841453\n",
      "  (1110, 3174)\t0.19113154928290435\n",
      "  (1110, 3363)\t0.3742235014841453\n",
      "  (1110, 4022)\t0.191596066847086\n",
      "  (1110, 4109)\t0.1906716083208562\n",
      "  (1111, 268)\t0.3746977741925054\n",
      "  (1111, 503)\t0.47727320057783823\n",
      "  (1111, 1012)\t0.47727320057783823\n",
      "  (1111, 1459)\t0.45505356814989883\n",
      "  (1111, 2451)\t0.33671306166726417\n",
      "  (1111, 4435)\t0.2890894779341821\n",
      "  (1112, 4362)\t0.5790142409011977\n",
      "  (1112, 6561)\t0.6933358898870733\n",
      "  (1112, 7404)\t0.4289846764490662\n",
      "  (1113, 2362)\t1.0\n",
      "  (1114, 305)\t0.3544958704238923\n",
      "  (1114, 1309)\t0.5418979155552348\n",
      "  (1114, 1408)\t0.38742253378806535\n",
      "  (1114, 4580)\t0.5231241609003211\n",
      "  (1114, 5073)\t0.39613661729871547\n"
     ]
    }
   ],
   "source": [
    "from sklearn.model_selection import train_test_split\n",
    "from sklearn.feature_extraction.text import TfidfVectorizer\n",
    "\n",
    "x_train , x_test , y_train,y_test = train_test_split(df['message'],df['label'],test_size = 0.2 , random_state=42)\n",
    "\n",
    "vectorizer = TfidfVectorizer(stop_words = 'english')\n",
    "\n",
    "x_train_vec = vectorizer.fit_transform(x_train)\n",
    "x_test_vec = vectorizer.transform(x_test)\n",
    "print(x_test_vec)\n",
    "print(x_test_vec)"
   ]
  },
  {
   "cell_type": "markdown",
   "id": "f95286d0",
   "metadata": {},
   "source": [
    "Now lets use Naive Bayes for classification . Here we have used Multinomial Naive Bayes , as it is used for text classification "
   ]
  },
  {
   "cell_type": "code",
   "execution_count": 36,
   "id": "15027496",
   "metadata": {},
   "outputs": [
    {
     "name": "stdout",
     "output_type": "stream",
     "text": [
      "Naive Bayes Results:\n",
      "[[965   0]\n",
      " [ 37 113]]\n",
      "              precision    recall  f1-score   support\n",
      "\n",
      "           0       0.96      1.00      0.98       965\n",
      "           1       1.00      0.75      0.86       150\n",
      "\n",
      "    accuracy                           0.97      1115\n",
      "   macro avg       0.98      0.88      0.92      1115\n",
      "weighted avg       0.97      0.97      0.96      1115\n",
      "\n"
     ]
    }
   ],
   "source": [
    "from sklearn.naive_bayes import MultinomialNB\n",
    "from sklearn.metrics import classification_report , confusion_matrix\n",
    "\n",
    "model = MultinomialNB()\n",
    "model.fit(x_train_vec,y_train)\n",
    "model_pred = model.predict(x_test_vec)\n",
    "\n",
    "print(\"Naive Bayes Results:\")\n",
    "print(confusion_matrix(y_test, model_pred))\n",
    "print(classification_report(y_test, model_pred))\n"
   ]
  },
  {
   "cell_type": "markdown",
   "id": "4d16dc6a",
   "metadata": {},
   "source": [
    "Great we have a good model with , but the F1 score is a bit messed up , so what we can do is we can get the probability for each message , and add our custom threshold ."
   ]
  },
  {
   "cell_type": "code",
   "execution_count": 42,
   "id": "d0be0fa1",
   "metadata": {},
   "outputs": [
    {
     "name": "stdout",
     "output_type": "stream",
     "text": [
      "[0.06149946 0.0551666  0.49121296 ... 0.03329764 0.08024818 0.83890076]\n",
      "Results for Threshold = 0.23\n",
      "              precision    recall  f1-score   support\n",
      "\n",
      "           0       0.98      0.99      0.99       965\n",
      "           1       0.96      0.86      0.91       150\n",
      "\n",
      "    accuracy                           0.98      1115\n",
      "   macro avg       0.97      0.93      0.95      1115\n",
      "weighted avg       0.98      0.98      0.98      1115\n",
      "\n",
      "[[960   5]\n",
      " [ 21 129]]\n"
     ]
    }
   ],
   "source": [
    "y_prob = model.predict_proba(x_test_vec)\n",
    "print(y_prob[:, 1])\n",
    "threshold = 0.23\n",
    "y_pred_custom = (y_prob[:, 1] >= threshold).astype(int)\n",
    "print(f\"Results for Threshold = {threshold}\")\n",
    "print(classification_report(y_test, y_pred_custom))\n",
    "print(confusion_matrix(y_test, y_pred_custom))"
   ]
  },
  {
   "cell_type": "markdown",
   "id": "88ac5fe8",
   "metadata": {},
   "source": [
    "Now we have a better trade off between the precision and recall values."
   ]
  }
 ],
 "metadata": {
  "kernelspec": {
   "display_name": "venv",
   "language": "python",
   "name": "python3"
  },
  "language_info": {
   "codemirror_mode": {
    "name": "ipython",
    "version": 3
   },
   "file_extension": ".py",
   "mimetype": "text/x-python",
   "name": "python",
   "nbconvert_exporter": "python",
   "pygments_lexer": "ipython3",
   "version": "3.13.3"
  }
 },
 "nbformat": 4,
 "nbformat_minor": 5
}
